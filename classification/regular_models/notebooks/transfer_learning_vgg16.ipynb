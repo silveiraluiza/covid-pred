{
 "cells": [
  {
   "cell_type": "code",
   "execution_count": 1,
   "metadata": {},
   "outputs": [
    {
     "name": "stdout",
     "output_type": "stream",
     "text": [
      "gpus existem\n",
      "[PhysicalDevice(name='/physical_device:GPU:0', device_type='GPU')]\n"
     ]
    },
    {
     "data": {
      "text/plain": [
       "{'ok': True,\n",
       " 'result': {'id': 2058519653,\n",
       "  'is_bot': True,\n",
       "  'first_name': 'cnn_covid',\n",
       "  'username': 'cnn_covid_bot',\n",
       "  'can_join_groups': True,\n",
       "  'can_read_all_group_messages': False,\n",
       "  'supports_inline_queries': False}}"
      ]
     },
     "execution_count": 1,
     "metadata": {},
     "output_type": "execute_result"
    }
   ],
   "source": [
    "import numpy as np\n",
    "import os\n",
    "import math\n",
    "import matplotlib.pyplot as plt\n",
    "import seaborn as sns\n",
    "import scipy.ndimage\n",
    "import skimage\n",
    "from skimage import io\n",
    "from skimage.segmentation import mark_boundaries\n",
    "from skimage.util import img_as_ubyte\n",
    "\n",
    "import cv2\n",
    "from albumentations import (\n",
    "    Compose, HorizontalFlip, ShiftScaleRotate, ElasticTransform,\n",
    "    RandomBrightness, RandomContrast, RandomGamma, CLAHE\n",
    ")\n",
    "\n",
    "import sklearn\n",
    "from sklearn import metrics\n",
    "from sklearn.metrics import roc_curve, auc\n",
    "from sklearn.utils import shuffle\n",
    "from sklearn.model_selection import train_test_split\n",
    "import telebot\n",
    "import time\n",
    "import tensorflow as tf\n",
    "from tensorflow import keras\n",
    "\n",
    "import lime\n",
    "from lime import lime_image\n",
    "\n",
    "import pandas as pd\n",
    "\n",
    "gpus = tf.config.experimental.list_physical_devices(\"GPU\")\n",
    "if gpus:\n",
    "  try:\n",
    "    print(\"gpus existem\")\n",
    "    print(gpus)\n",
    "    # Currently, memory growth needs to be the same across GPUs\n",
    "    for gpu in gpus:\n",
    "      tf.config.experimental.set_memory_growth(gpu, True)\n",
    "  except RuntimeError as e:\n",
    "    print(e)\n",
    "    \n",
    "    \n",
    "TELEBOT_TOKEN = \"2058519653:AAG5Kf0Othtye8e13F5WPnBQQSdoCt47ifA\"\n",
    "\n",
    "bot = telebot.TeleBot(\"2058519653:AAG5Kf0Othtye8e13F5WPnBQQSdoCt47ifA\")\n",
    "bot.config['api_key'] = TELEBOT_TOKEN\n",
    "bot.get_me()"
   ]
  },
  {
   "cell_type": "code",
   "execution_count": 2,
   "metadata": {},
   "outputs": [],
   "source": [
    "%matplotlib inline"
   ]
  },
  {
   "cell_type": "code",
   "execution_count": 3,
   "metadata": {},
   "outputs": [],
   "source": [
    "cwd = os.getcwd()"
   ]
  },
  {
   "cell_type": "code",
   "execution_count": 4,
   "metadata": {},
   "outputs": [],
   "source": [
    "tf.keras.backend.clear_session()"
   ]
  },
  {
   "cell_type": "code",
   "execution_count": 5,
   "metadata": {},
   "outputs": [],
   "source": [
    "root_folder = \"../../3_Images\"\n",
    "\n",
    "img_size = 300"
   ]
  },
  {
   "cell_type": "code",
   "execution_count": 6,
   "metadata": {},
   "outputs": [
    {
     "name": "stdout",
     "output_type": "stream",
     "text": [
      "6412\n",
      "1545\n"
     ]
    }
   ],
   "source": [
    "images_train = []\n",
    "labels_train = []\n",
    "\n",
    "for idx, pathogen in enumerate([\"Opacity\", \"COVID-19\", \"Normal\"]):\n",
    "  for img_filename in os.listdir(os.path.join(root_folder, \"train\", pathogen)):\n",
    "    img = cv2.imread(os.path.join(root_folder, \"train\", pathogen, img_filename), 0)\n",
    "    img = cv2.resize(img, (img_size, img_size), interpolation = cv2.INTER_CUBIC)\n",
    "    img = skimage.img_as_float32(img)\n",
    "    images_train.append(img)\n",
    "    labels_train.append(idx)\n",
    "\n",
    "images_test = []\n",
    "labels_test = []\n",
    "for idx, pathogen in enumerate([\"Opacity\", \"COVID-19\", \"Normal\"]):\n",
    "  for img_filename in os.listdir(os.path.join(root_folder, \"test\", pathogen)):\n",
    "    img = cv2.imread(os.path.join(root_folder, \"test\", pathogen, img_filename), 0)\n",
    "    img = cv2.resize(img, (img_size, img_size), interpolation = cv2.INTER_CUBIC)\n",
    "    img = skimage.img_as_float32(img)\n",
    "    images_test.append(img)\n",
    "    labels_test.append(idx)\n",
    "\n",
    "print(len(images_train))\n",
    "print(len(images_test))"
   ]
  },
  {
   "cell_type": "code",
   "execution_count": 7,
   "metadata": {},
   "outputs": [
    {
     "data": {
      "text/plain": [
       "<matplotlib.image.AxesImage at 0x7fabc809abb0>"
      ]
     },
     "execution_count": 7,
     "metadata": {},
     "output_type": "execute_result"
    },
    {
     "data": {
      "image/png": "[encoded data removed]",
      "text/plain": [
       "<Figure size 432x288 with 4 Axes>"
      ]
     },
     "metadata": {
      "needs_background": "light"
     },
     "output_type": "display_data"
    }
   ],
   "source": [
    "f = plt.figure()\n",
    "f.add_subplot(3, 2, 1)\n",
    "plt.imshow(images_train[10], cmap = \"gray\")\n",
    "f.add_subplot(3, 2, 2)\n",
    "plt.imshow(images_train[20], cmap = \"gray\")\n",
    "f.add_subplot(3, 2, 3)\n",
    "plt.imshow(images_test[10], cmap = \"gray\")\n",
    "f.add_subplot(3, 2, 4)\n",
    "plt.imshow(images_test[20], cmap = \"gray\")"
   ]
  },
  {
   "cell_type": "code",
   "execution_count": 8,
   "metadata": {},
   "outputs": [
    {
     "name": "stdout",
     "output_type": "stream",
     "text": [
      "(array([0, 1, 2]), array([1799, 1645, 1685]))\n",
      "(array([0, 1, 2]), array([443, 414, 426]))\n",
      "(array([0, 1, 2]), array([536, 502, 507]))\n"
     ]
    }
   ],
   "source": [
    "X_train = np.array(images_train).reshape((len(images_train), img_size, img_size))\n",
    "Y_train = keras.utils.to_categorical(labels_train)\n",
    "X_train, Y_train = sklearn.utils.shuffle(X_train, Y_train, random_state = 587)\n",
    "\n",
    "X_train, X_val, Y_train, Y_val = train_test_split(X_train, Y_train, test_size = 0.2, random_state = 587)\n",
    "X_val = np.stack((X_val,) * 3, axis = -1)\n",
    "\n",
    "X_test = np.array(images_test).reshape((len(images_test), img_size, img_size))\n",
    "X_test = np.stack((X_test,) * 3, axis = -1)\n",
    "Y_test = keras.utils.to_categorical(labels_test)\n",
    "X_test, Y_test = sklearn.utils.shuffle(X_test, Y_test)\n",
    "\n",
    "print(np.unique(np.argmax(Y_train, axis = 1), return_counts = True))\n",
    "print(np.unique(np.argmax(Y_val, axis = 1), return_counts = True))\n",
    "print(np.unique(np.argmax(Y_test, axis = 1), return_counts = True))"
   ]
  },
  {
   "cell_type": "code",
   "execution_count": 9,
   "metadata": {},
   "outputs": [
    {
     "name": "stderr",
     "output_type": "stream",
     "text": [
      "/home/dell/anaconda3/envs/tensorflow/lib/python3.8/site-packages/albumentations/augmentations/transforms.py:1744: FutureWarning: This class has been deprecated. Please use RandomBrightnessContrast\n",
      "  warnings.warn(\n",
      "/home/dell/anaconda3/envs/tensorflow/lib/python3.8/site-packages/albumentations/augmentations/transforms.py:1770: FutureWarning: This class has been deprecated. Please use RandomBrightnessContrast\n",
      "  warnings.warn(\n"
     ]
    }
   ],
   "source": [
    "class AugmentationSequence(keras.utils.Sequence):\n",
    "  def __init__(self, x_set, y_set, batch_size, augmentations):\n",
    "    self.x, self.y = x_set, y_set\n",
    "    self.batch_size = batch_size\n",
    "    self.augment = augmentations\n",
    "\n",
    "  def __len__(self):\n",
    "    return int(np.ceil(len(self.x) / float(self.batch_size)))\n",
    "\n",
    "  def __getitem__(self, idx):\n",
    "    batch_x = self.x[idx * self.batch_size:(idx + 1) * self.batch_size]\n",
    "    batch_y = self.y[idx * self.batch_size:(idx + 1) * self.batch_size]\n",
    "    \n",
    "    aug_x = np.zeros(batch_x.shape)\n",
    "    for idx in range(batch_x.shape[0]):\n",
    "      aug = self.augment(image = batch_x[idx,:,:])\n",
    "      aug_x[idx,:,:] = aug[\"image\"]\n",
    "\n",
    "    return np.stack((aug_x,) * 3, axis = -1), batch_y\n",
    "\n",
    "augment = Compose([\n",
    "  HorizontalFlip(),\n",
    "  ShiftScaleRotate(shift_limit = 0.05, scale_limit = 0.05, rotate_limit = 15, border_mode = cv2.BORDER_CONSTANT),\n",
    "  ElasticTransform(sigma = 20, alpha_affine = 20, border_mode = cv2.BORDER_CONSTANT),\n",
    "  RandomBrightness(),\n",
    "  RandomContrast(),\n",
    "  RandomGamma()\n",
    "])\n",
    "\n",
    "batch_size = 40\n",
    "train_generator = AugmentationSequence(X_train, Y_train, batch_size, augment)\n",
    "steps_per_epoch = math.ceil(X_train.shape[0] / batch_size)"
   ]
  },
  {
   "cell_type": "code",
   "execution_count": 10,
   "metadata": {},
   "outputs": [
    {
     "data": {
      "text/plain": [
       "<matplotlib.image.AxesImage at 0x7fabc3ee8550>"
      ]
     },
     "execution_count": 10,
     "metadata": {},
     "output_type": "execute_result"
    },
    {
     "data": {
      "image/png": "[encoded data removed]",
      "text/plain": [
       "<Figure size 432x288 with 2 Axes>"
      ]
     },
     "metadata": {
      "needs_background": "light"
     },
     "output_type": "display_data"
    }
   ],
   "source": [
    "X_aug, Y_aug = train_generator.__getitem__(10)\n",
    "\n",
    "f = plt.figure()\n",
    "f.add_subplot(2, 2, 1)\n",
    "plt.imshow(X_aug[0,:,:,0], cmap = \"gray\")\n",
    "f.add_subplot(2, 2, 2)\n",
    "plt.imshow(X_aug[1,:,:,0], cmap = \"gray\")"
   ]
  },
  {
   "cell_type": "code",
   "execution_count": 11,
   "metadata": {},
   "outputs": [],
   "source": [
    "def create_model():\n",
    "  \n",
    "  inputs = keras.Input(shape = (img_size, img_size, 3))\n",
    "  \n",
    "  base_model = keras.applications.VGG16(\n",
    "    weights = \"imagenet\",\n",
    "    include_top = False,\n",
    "    input_shape = (img_size, img_size, 3)\n",
    "  )\n",
    "  base_model.trainable = False\n",
    "  \n",
    "  x = base_model(inputs, training = False)\n",
    "  x = keras.layers.GlobalAveragePooling2D()(x)\n",
    "  x = keras.layers.Dense(1024, activation = \"relu\")(x)\n",
    "  x = keras.layers.BatchNormalization()(x)\n",
    "  x = keras.layers.Dropout(0.5)(x)\n",
    "  x = keras.layers.Dense(1024, activation = \"relu\")(x)\n",
    "  x = keras.layers.BatchNormalization()(x)\n",
    "  x = keras.layers.Dropout(0.5)(x)\n",
    "  x = keras.layers.Dense(512, activation = \"relu\")(x)\n",
    "  x = keras.layers.BatchNormalization()(x)\n",
    "  x = keras.layers.Dropout(0.5)(x)\n",
    "  output = keras.layers.Dense(3, activation = 'softmax')(x)\n",
    "\n",
    "  model = keras.Model(inputs = inputs, outputs = output)\n",
    "\n",
    "  return model, base_model"
   ]
  },
  {
   "cell_type": "code",
   "execution_count": 12,
   "metadata": {},
   "outputs": [
    {
     "name": "stdout",
     "output_type": "stream",
     "text": [
      "INFO:tensorflow:Using MirroredStrategy with devices ('/job:localhost/replica:0/task:0/device:GPU:0',)\n",
      "existe\n"
     ]
    }
   ],
   "source": [
    "np.random.seed(587)\n",
    "\n",
    "reduce_learning_rate = keras.callbacks.ReduceLROnPlateau(\n",
    "  monitor = \"loss\", \n",
    "  factor = 0.5, \n",
    "  patience = 3, \n",
    "  verbose = 1\n",
    ")\n",
    "\n",
    "model_name = \"cache/tl_vgg16_cd.h5\"\n",
    "\n",
    "checkpointer = keras.callbacks.ModelCheckpoint(\n",
    "  model_name,\n",
    "  monitor = \"val_accuracy\",\n",
    "  verbose = 1, \n",
    "  save_best_only = True\n",
    ")\n",
    "\n",
    "strategy = tf.distribute.MirroredStrategy()\n",
    "\n",
    "if (os.path.exists(model_name)):\n",
    "  model = keras.models.load_model(model_name)\n",
    "  print(\"existe\")\n",
    "  \n",
    "else:\n",
    "  model, base_model = create_model()\n",
    "  adam_opt = keras.optimizers.Adam(learning_rate = 0.001 )\n",
    "  model.compile(optimizer = adam_opt, loss = \"categorical_crossentropy\", metrics = [\"accuracy\"])\n",
    "  start = time.time()    \n",
    "  fit = model.fit(train_generator, \n",
    "    steps_per_epoch = steps_per_epoch, \n",
    "    epochs = 50,\n",
    "    validation_data = (X_val, Y_val),\n",
    "    callbacks = [\n",
    "      checkpointer,\n",
    "      reduce_learning_rate\n",
    "    ]\n",
    "  )\n",
    "  end = time.time()"
   ]
  },
  {
   "cell_type": "code",
   "execution_count": 13,
   "metadata": {},
   "outputs": [
    {
     "name": "stdout",
     "output_type": "stream",
     "text": [
      "Model: \"model\"\n",
      "_________________________________________________________________\n",
      "Layer (type)                 Output Shape              Param #   \n",
      "=================================================================\n",
      "input_1 (InputLayer)         [(None, 300, 300, 3)]     0         \n",
      "_________________________________________________________________\n",
      "vgg16 (Functional)           (None, 9, 9, 512)         14714688  \n",
      "_________________________________________________________________\n",
      "global_average_pooling2d (Gl (None, 512)               0         \n",
      "_________________________________________________________________\n",
      "dense (Dense)                (None, 1024)              525312    \n",
      "_________________________________________________________________\n",
      "batch_normalization (BatchNo (None, 1024)              4096      \n",
      "_________________________________________________________________\n",
      "dropout (Dropout)            (None, 1024)              0         \n",
      "_________________________________________________________________\n",
      "dense_1 (Dense)              (None, 1024)              1049600   \n",
      "_________________________________________________________________\n",
      "batch_normalization_1 (Batch (None, 1024)              4096      \n",
      "_________________________________________________________________\n",
      "dropout_1 (Dropout)          (None, 1024)              0         \n",
      "_________________________________________________________________\n",
      "dense_2 (Dense)              (None, 512)               524800    \n",
      "_________________________________________________________________\n",
      "batch_normalization_2 (Batch (None, 512)               2048      \n",
      "_________________________________________________________________\n",
      "dropout_2 (Dropout)          (None, 512)               0         \n",
      "_________________________________________________________________\n",
      "dense_3 (Dense)              (None, 3)                 1539      \n",
      "=================================================================\n",
      "Total params: 16,826,179\n",
      "Trainable params: 2,106,371\n",
      "Non-trainable params: 14,719,808\n",
      "_________________________________________________________________\n"
     ]
    }
   ],
   "source": [
    "model.summary()"
   ]
  },
  {
   "cell_type": "code",
   "execution_count": 14,
   "metadata": {},
   "outputs": [
    {
     "ename": "NameError",
     "evalue": "name 'start' is not defined",
     "output_type": "error",
     "traceback": [
      "\u001b[0;31m---------------------------------------------------------------------------\u001b[0m",
      "\u001b[0;31mNameError\u001b[0m                                 Traceback (most recent call last)",
      "\u001b[0;32m<ipython-input-14-de46eeb81192>\u001b[0m in \u001b[0;36m<module>\u001b[0;34m\u001b[0m\n\u001b[0;32m----> 1\u001b[0;31m \u001b[0mfinal_train1\u001b[0m \u001b[0;34m=\u001b[0m \u001b[0mstart\u001b[0m\u001b[0;34m-\u001b[0m\u001b[0mend\u001b[0m\u001b[0;34m\u001b[0m\u001b[0;34m\u001b[0m\u001b[0m\n\u001b[0m",
      "\u001b[0;31mNameError\u001b[0m: name 'start' is not defined"
     ]
    }
   ],
   "source": [
    "final_train1 = start-end"
   ]
  },
  {
   "cell_type": "code",
   "execution_count": 15,
   "metadata": {},
   "outputs": [
    {
     "name": "stdout",
     "output_type": "stream",
     "text": [
      "existe\n"
     ]
    }
   ],
   "source": [
    "np.random.seed(587)\n",
    "\n",
    "model_name = \"cache/tl_vgg16_finetune_cd.h5\"\n",
    "\n",
    "checkpointer = keras.callbacks.ModelCheckpoint(\n",
    "  model_name,\n",
    "  monitor = \"val_accuracy\",\n",
    "  verbose = 1, \n",
    "  save_best_only = True\n",
    ")\n",
    "\n",
    "if (os.path.exists(model_name)):\n",
    "  print(\"existe\")\n",
    "  model = keras.models.load_model(model_name)\n",
    "  \n",
    "else:\n",
    "  base_model.trainable = True\n",
    "  adam_opt = keras.optimizers.Adam(learning_rate = 0.0001)\n",
    "  model.compile(optimizer = adam_opt, loss = \"categorical_crossentropy\", metrics = [\"accuracy\"])\n",
    "  model.save('cache/tl_vgg16_finetune_cd.h5')\n",
    "  "
   ]
  },
  {
   "cell_type": "code",
   "execution_count": 16,
   "metadata": {},
   "outputs": [
    {
     "name": "stdout",
     "output_type": "stream",
     "text": [
      "Epoch 1/100\n",
      "101/129 [======================>.......] - ETA: 25s - loss: 0.5608 - accuracy: 0.7872"
     ]
    },
    {
     "ename": "ResourceExhaustedError",
     "evalue": " OOM when allocating tensor with shape[40,64,300,300] and type float on /job:localhost/replica:0/task:0/device:GPU:0 by allocator GPU_0_bfc\n\t [[node gradient_tape/model/vgg16/block1_conv2/Conv2D/Conv2DBackpropInput (defined at <ipython-input-16-b961fd8465ba>:6) ]]\nHint: If you want to see a list of allocated tensors when OOM happens, add report_tensor_allocations_upon_oom to RunOptions for current allocation info. This isn't available when running in Eager mode.\n [Op:__inference_train_function_3898]\n\nFunction call stack:\ntrain_function\n",
     "output_type": "error",
     "traceback": [
      "\u001b[0;31m---------------------------------------------------------------------------\u001b[0m",
      "\u001b[0;31mResourceExhaustedError\u001b[0m                    Traceback (most recent call last)",
      "\u001b[0;32m<ipython-input-16-b961fd8465ba>\u001b[0m in \u001b[0;36m<module>\u001b[0;34m\u001b[0m\n\u001b[1;32m      4\u001b[0m \u001b[0;34m\u001b[0m\u001b[0m\n\u001b[1;32m      5\u001b[0m \u001b[0mstart\u001b[0m \u001b[0;34m=\u001b[0m \u001b[0mtime\u001b[0m\u001b[0;34m.\u001b[0m\u001b[0mtime\u001b[0m\u001b[0;34m(\u001b[0m\u001b[0;34m)\u001b[0m\u001b[0;34m\u001b[0m\u001b[0;34m\u001b[0m\u001b[0m\n\u001b[0;32m----> 6\u001b[0;31m fit = model.fit(train_generator, \n\u001b[0m\u001b[1;32m      7\u001b[0m     \u001b[0msteps_per_epoch\u001b[0m \u001b[0;34m=\u001b[0m \u001b[0msteps_per_epoch\u001b[0m\u001b[0;34m,\u001b[0m\u001b[0;34m\u001b[0m\u001b[0;34m\u001b[0m\u001b[0m\n\u001b[1;32m      8\u001b[0m     \u001b[0mepochs\u001b[0m \u001b[0;34m=\u001b[0m \u001b[0;36m100\u001b[0m\u001b[0;34m,\u001b[0m\u001b[0;34m\u001b[0m\u001b[0;34m\u001b[0m\u001b[0m\n",
      "\u001b[0;32m~/anaconda3/envs/tensorflow/lib/python3.8/site-packages/keras/engine/training.py\u001b[0m in \u001b[0;36mfit\u001b[0;34m(self, x, y, batch_size, epochs, verbose, callbacks, validation_split, validation_data, shuffle, class_weight, sample_weight, initial_epoch, steps_per_epoch, validation_steps, validation_batch_size, validation_freq, max_queue_size, workers, use_multiprocessing)\u001b[0m\n\u001b[1;32m   1182\u001b[0m                 _r=1):\n\u001b[1;32m   1183\u001b[0m               \u001b[0mcallbacks\u001b[0m\u001b[0;34m.\u001b[0m\u001b[0mon_train_batch_begin\u001b[0m\u001b[0;34m(\u001b[0m\u001b[0mstep\u001b[0m\u001b[0;34m)\u001b[0m\u001b[0;34m\u001b[0m\u001b[0;34m\u001b[0m\u001b[0m\n\u001b[0;32m-> 1184\u001b[0;31m               \u001b[0mtmp_logs\u001b[0m \u001b[0;34m=\u001b[0m \u001b[0mself\u001b[0m\u001b[0;34m.\u001b[0m\u001b[0mtrain_function\u001b[0m\u001b[0;34m(\u001b[0m\u001b[0miterator\u001b[0m\u001b[0;34m)\u001b[0m\u001b[0;34m\u001b[0m\u001b[0;34m\u001b[0m\u001b[0m\n\u001b[0m\u001b[1;32m   1185\u001b[0m               \u001b[0;32mif\u001b[0m \u001b[0mdata_handler\u001b[0m\u001b[0;34m.\u001b[0m\u001b[0mshould_sync\u001b[0m\u001b[0;34m:\u001b[0m\u001b[0;34m\u001b[0m\u001b[0;34m\u001b[0m\u001b[0m\n\u001b[1;32m   1186\u001b[0m                 \u001b[0mcontext\u001b[0m\u001b[0;34m.\u001b[0m\u001b[0masync_wait\u001b[0m\u001b[0;34m(\u001b[0m\u001b[0;34m)\u001b[0m\u001b[0;34m\u001b[0m\u001b[0;34m\u001b[0m\u001b[0m\n",
      "\u001b[0;32m~/anaconda3/envs/tensorflow/lib/python3.8/site-packages/tensorflow/python/eager/def_function.py\u001b[0m in \u001b[0;36m__call__\u001b[0;34m(self, *args, **kwds)\u001b[0m\n\u001b[1;32m    883\u001b[0m \u001b[0;34m\u001b[0m\u001b[0m\n\u001b[1;32m    884\u001b[0m       \u001b[0;32mwith\u001b[0m \u001b[0mOptionalXlaContext\u001b[0m\u001b[0;34m(\u001b[0m\u001b[0mself\u001b[0m\u001b[0;34m.\u001b[0m\u001b[0m_jit_compile\u001b[0m\u001b[0;34m)\u001b[0m\u001b[0;34m:\u001b[0m\u001b[0;34m\u001b[0m\u001b[0;34m\u001b[0m\u001b[0m\n\u001b[0;32m--> 885\u001b[0;31m         \u001b[0mresult\u001b[0m \u001b[0;34m=\u001b[0m \u001b[0mself\u001b[0m\u001b[0;34m.\u001b[0m\u001b[0m_call\u001b[0m\u001b[0;34m(\u001b[0m\u001b[0;34m*\u001b[0m\u001b[0margs\u001b[0m\u001b[0;34m,\u001b[0m \u001b[0;34m**\u001b[0m\u001b[0mkwds\u001b[0m\u001b[0;34m)\u001b[0m\u001b[0;34m\u001b[0m\u001b[0;34m\u001b[0m\u001b[0m\n\u001b[0m\u001b[1;32m    886\u001b[0m \u001b[0;34m\u001b[0m\u001b[0m\n\u001b[1;32m    887\u001b[0m       \u001b[0mnew_tracing_count\u001b[0m \u001b[0;34m=\u001b[0m \u001b[0mself\u001b[0m\u001b[0;34m.\u001b[0m\u001b[0mexperimental_get_tracing_count\u001b[0m\u001b[0;34m(\u001b[0m\u001b[0;34m)\u001b[0m\u001b[0;34m\u001b[0m\u001b[0;34m\u001b[0m\u001b[0m\n",
      "\u001b[0;32m~/anaconda3/envs/tensorflow/lib/python3.8/site-packages/tensorflow/python/eager/def_function.py\u001b[0m in \u001b[0;36m_call\u001b[0;34m(self, *args, **kwds)\u001b[0m\n\u001b[1;32m    915\u001b[0m       \u001b[0;31m# In this case we have created variables on the first call, so we run the\u001b[0m\u001b[0;34m\u001b[0m\u001b[0;34m\u001b[0m\u001b[0;34m\u001b[0m\u001b[0m\n\u001b[1;32m    916\u001b[0m       \u001b[0;31m# defunned version which is guaranteed to never create variables.\u001b[0m\u001b[0;34m\u001b[0m\u001b[0;34m\u001b[0m\u001b[0;34m\u001b[0m\u001b[0m\n\u001b[0;32m--> 917\u001b[0;31m       \u001b[0;32mreturn\u001b[0m \u001b[0mself\u001b[0m\u001b[0;34m.\u001b[0m\u001b[0m_stateless_fn\u001b[0m\u001b[0;34m(\u001b[0m\u001b[0;34m*\u001b[0m\u001b[0margs\u001b[0m\u001b[0;34m,\u001b[0m \u001b[0;34m**\u001b[0m\u001b[0mkwds\u001b[0m\u001b[0;34m)\u001b[0m  \u001b[0;31m# pylint: disable=not-callable\u001b[0m\u001b[0;34m\u001b[0m\u001b[0;34m\u001b[0m\u001b[0m\n\u001b[0m\u001b[1;32m    918\u001b[0m     \u001b[0;32melif\u001b[0m \u001b[0mself\u001b[0m\u001b[0;34m.\u001b[0m\u001b[0m_stateful_fn\u001b[0m \u001b[0;32mis\u001b[0m \u001b[0;32mnot\u001b[0m \u001b[0;32mNone\u001b[0m\u001b[0;34m:\u001b[0m\u001b[0;34m\u001b[0m\u001b[0;34m\u001b[0m\u001b[0m\n\u001b[1;32m    919\u001b[0m       \u001b[0;31m# Release the lock early so that multiple threads can perform the call\u001b[0m\u001b[0;34m\u001b[0m\u001b[0;34m\u001b[0m\u001b[0;34m\u001b[0m\u001b[0m\n",
      "\u001b[0;32m~/anaconda3/envs/tensorflow/lib/python3.8/site-packages/tensorflow/python/eager/function.py\u001b[0m in \u001b[0;36m__call__\u001b[0;34m(self, *args, **kwargs)\u001b[0m\n\u001b[1;32m   3037\u001b[0m       (graph_function,\n\u001b[1;32m   3038\u001b[0m        filtered_flat_args) = self._maybe_define_function(args, kwargs)\n\u001b[0;32m-> 3039\u001b[0;31m     return graph_function._call_flat(\n\u001b[0m\u001b[1;32m   3040\u001b[0m         filtered_flat_args, captured_inputs=graph_function.captured_inputs)  # pylint: disable=protected-access\n\u001b[1;32m   3041\u001b[0m \u001b[0;34m\u001b[0m\u001b[0m\n",
      "\u001b[0;32m~/anaconda3/envs/tensorflow/lib/python3.8/site-packages/tensorflow/python/eager/function.py\u001b[0m in \u001b[0;36m_call_flat\u001b[0;34m(self, args, captured_inputs, cancellation_manager)\u001b[0m\n\u001b[1;32m   1961\u001b[0m         and executing_eagerly):\n\u001b[1;32m   1962\u001b[0m       \u001b[0;31m# No tape is watching; skip to running the function.\u001b[0m\u001b[0;34m\u001b[0m\u001b[0;34m\u001b[0m\u001b[0;34m\u001b[0m\u001b[0m\n\u001b[0;32m-> 1963\u001b[0;31m       return self._build_call_outputs(self._inference_function.call(\n\u001b[0m\u001b[1;32m   1964\u001b[0m           ctx, args, cancellation_manager=cancellation_manager))\n\u001b[1;32m   1965\u001b[0m     forward_backward = self._select_forward_and_backward_functions(\n",
      "\u001b[0;32m~/anaconda3/envs/tensorflow/lib/python3.8/site-packages/tensorflow/python/eager/function.py\u001b[0m in \u001b[0;36mcall\u001b[0;34m(self, ctx, args, cancellation_manager)\u001b[0m\n\u001b[1;32m    589\u001b[0m       \u001b[0;32mwith\u001b[0m \u001b[0m_InterpolateFunctionError\u001b[0m\u001b[0;34m(\u001b[0m\u001b[0mself\u001b[0m\u001b[0;34m)\u001b[0m\u001b[0;34m:\u001b[0m\u001b[0;34m\u001b[0m\u001b[0;34m\u001b[0m\u001b[0m\n\u001b[1;32m    590\u001b[0m         \u001b[0;32mif\u001b[0m \u001b[0mcancellation_manager\u001b[0m \u001b[0;32mis\u001b[0m \u001b[0;32mNone\u001b[0m\u001b[0;34m:\u001b[0m\u001b[0;34m\u001b[0m\u001b[0;34m\u001b[0m\u001b[0m\n\u001b[0;32m--> 591\u001b[0;31m           outputs = execute.execute(\n\u001b[0m\u001b[1;32m    592\u001b[0m               \u001b[0mstr\u001b[0m\u001b[0;34m(\u001b[0m\u001b[0mself\u001b[0m\u001b[0;34m.\u001b[0m\u001b[0msignature\u001b[0m\u001b[0;34m.\u001b[0m\u001b[0mname\u001b[0m\u001b[0;34m)\u001b[0m\u001b[0;34m,\u001b[0m\u001b[0;34m\u001b[0m\u001b[0;34m\u001b[0m\u001b[0m\n\u001b[1;32m    593\u001b[0m               \u001b[0mnum_outputs\u001b[0m\u001b[0;34m=\u001b[0m\u001b[0mself\u001b[0m\u001b[0;34m.\u001b[0m\u001b[0m_num_outputs\u001b[0m\u001b[0;34m,\u001b[0m\u001b[0;34m\u001b[0m\u001b[0;34m\u001b[0m\u001b[0m\n",
      "\u001b[0;32m~/anaconda3/envs/tensorflow/lib/python3.8/site-packages/tensorflow/python/eager/execute.py\u001b[0m in \u001b[0;36mquick_execute\u001b[0;34m(op_name, num_outputs, inputs, attrs, ctx, name)\u001b[0m\n\u001b[1;32m     57\u001b[0m   \u001b[0;32mtry\u001b[0m\u001b[0;34m:\u001b[0m\u001b[0;34m\u001b[0m\u001b[0;34m\u001b[0m\u001b[0m\n\u001b[1;32m     58\u001b[0m     \u001b[0mctx\u001b[0m\u001b[0;34m.\u001b[0m\u001b[0mensure_initialized\u001b[0m\u001b[0;34m(\u001b[0m\u001b[0;34m)\u001b[0m\u001b[0;34m\u001b[0m\u001b[0;34m\u001b[0m\u001b[0m\n\u001b[0;32m---> 59\u001b[0;31m     tensors = pywrap_tfe.TFE_Py_Execute(ctx._handle, device_name, op_name,\n\u001b[0m\u001b[1;32m     60\u001b[0m                                         inputs, attrs, num_outputs)\n\u001b[1;32m     61\u001b[0m   \u001b[0;32mexcept\u001b[0m \u001b[0mcore\u001b[0m\u001b[0;34m.\u001b[0m\u001b[0m_NotOkStatusException\u001b[0m \u001b[0;32mas\u001b[0m \u001b[0me\u001b[0m\u001b[0;34m:\u001b[0m\u001b[0;34m\u001b[0m\u001b[0;34m\u001b[0m\u001b[0m\n",
      "\u001b[0;31mResourceExhaustedError\u001b[0m:  OOM when allocating tensor with shape[40,64,300,300] and type float on /job:localhost/replica:0/task:0/device:GPU:0 by allocator GPU_0_bfc\n\t [[node gradient_tape/model/vgg16/block1_conv2/Conv2D/Conv2DBackpropInput (defined at <ipython-input-16-b961fd8465ba>:6) ]]\nHint: If you want to see a list of allocated tensors when OOM happens, add report_tensor_allocations_upon_oom to RunOptions for current allocation info. This isn't available when running in Eager mode.\n [Op:__inference_train_function_3898]\n\nFunction call stack:\ntrain_function\n"
     ]
    }
   ],
   "source": [
    "np.random.seed(587)\n",
    "tf.keras.backend.clear_session()\n",
    "model_name = \"cache/tl_vgg16_finetune_cd.h5\"\n",
    "\n",
    "start = time.time()    \n",
    "fit = model.fit(train_generator, \n",
    "    steps_per_epoch = steps_per_epoch, \n",
    "    epochs = 100,\n",
    "    validation_data = (X_val, Y_val),\n",
    "    callbacks = [\n",
    "      checkpointer,\n",
    "      reduce_learning_rate\n",
    "    ]\n",
    "  )\n",
    "end = time.time()"
   ]
  },
  {
   "cell_type": "code",
   "execution_count": null,
   "metadata": {},
   "outputs": [],
   "source": [
    "final_train2 = start-end\n",
    "tfinal = final_train2 + final_train1"
   ]
  },
  {
   "cell_type": "code",
   "execution_count": null,
   "metadata": {},
   "outputs": [],
   "source": [
    "tf.keras.backend.clear_session()\n",
    "model_name = \"cache/tl_vgg16_finetune_cd.h5\"\n",
    "model = keras.models.load_model(model_name)"
   ]
  },
  {
   "cell_type": "code",
   "execution_count": null,
   "metadata": {},
   "outputs": [],
   "source": [
    "X_train.shape "
   ]
  },
  {
   "cell_type": "code",
   "execution_count": null,
   "metadata": {},
   "outputs": [],
   "source": [
    "train1, train2, train3 = np.array_split(X_train, 3)\n",
    "\n",
    "train1 = np.stack((train1,) * 3, axis= -1)\n",
    "train2 =  np.stack((train2,) * 3, axis= -1)\n",
    "train3 =  np.stack((train3,) * 3, axis= -1)"
   ]
  },
  {
   "cell_type": "code",
   "execution_count": null,
   "metadata": {},
   "outputs": [],
   "source": [
    "train1.shape"
   ]
  },
  {
   "cell_type": "code",
   "execution_count": null,
   "metadata": {},
   "outputs": [],
   "source": [
    "train2.shape"
   ]
  },
  {
   "cell_type": "code",
   "execution_count": null,
   "metadata": {},
   "outputs": [],
   "source": [
    "train3.shape"
   ]
  },
  {
   "cell_type": "code",
   "execution_count": null,
   "metadata": {},
   "outputs": [],
   "source": [
    "del(X_train)"
   ]
  },
  {
   "cell_type": "code",
   "execution_count": null,
   "metadata": {},
   "outputs": [],
   "source": [
    "del(images_train)\n",
    "del(labels_train)\n",
    "del(images_test)\n",
    "del(labels_test)"
   ]
  },
  {
   "cell_type": "code",
   "execution_count": null,
   "metadata": {},
   "outputs": [],
   "source": [
    "with tf.device(\"/gpu:1\"):\n",
    "  Y_pred = model.predict(train1, batch_size=16)\n",
    "  del(train1)"
   ]
  },
  {
   "cell_type": "code",
   "execution_count": null,
   "metadata": {},
   "outputs": [],
   "source": [
    "with tf.device(\"/gpu:1\"):\n",
    "  Y_pred_2 = model.predict(train2, batch_size=16)\n",
    "  del(train2)"
   ]
  },
  {
   "cell_type": "code",
   "execution_count": null,
   "metadata": {},
   "outputs": [],
   "source": [
    "with tf.device(\"/gpu:1\"):\n",
    "  Y_pred_3 = model.predict(train3, batch_size=16)\n",
    "  del(train3)"
   ]
  },
  {
   "cell_type": "code",
   "execution_count": null,
   "metadata": {},
   "outputs": [],
   "source": [
    "y_pred = np.concatenate((Y_pred, Y_pred_2, Y_pred_3))"
   ]
  },
  {
   "cell_type": "code",
   "execution_count": null,
   "metadata": {},
   "outputs": [],
   "source": [
    "del(Y_pred,Y_pred_2,Y_pred_3)"
   ]
  },
  {
   "cell_type": "code",
   "execution_count": null,
   "metadata": {},
   "outputs": [],
   "source": [
    "with tf.device(\"/gpu:1\"):\n",
    "  y_pred = np.argmax(y_pred, axis = 1)\n",
    "  y_true = np.argmax(Y_train, axis = 1)\n",
    "  print('Confusion Matrix')\n",
    "  df_cm_train = metrics.confusion_matrix(y_true, y_pred)\n",
    "  plt.figure(figsize = (10,7))\n",
    "  sns.heatmap(df_cm_train, annot=True, fmt='.3g')\n",
    "  plt.show()\n",
    "  print('Classification Report')\n",
    "  class_repo_train = metrics.classification_report(y_true, y_pred, output_dict=True, target_names = [\"Opacity\", \"COVID-19\", \"Normal\"])\n",
    "  print(metrics.classification_report(y_true, y_pred, target_names = [\"Opacity\", \"COVID-19\", \"Normal\"]))\n",
    "  print('F-Score')\n",
    "  f_score_train = metrics.precision_recall_fscore_support(y_true, y_pred, average = \"macro\")\n",
    "  print(f_score_train)\n",
    "  print(\"Accuracy\")\n",
    "  acc_train = metrics.accuracy_score(y_true, y_pred)\n",
    "  print(acc_train)\n",
    "  \n"
   ]
  },
  {
   "cell_type": "code",
   "execution_count": null,
   "metadata": {},
   "outputs": [],
   "source": [
    "with tf.device(\"/gpu:1\"):\n",
    "  Y_pred = model.predict(X_val, batch_size = 16)\n",
    "  y_pred = np.argmax(Y_pred, axis = 1)\n",
    "  y_true = np.argmax(Y_val, axis = 1)\n",
    "  print('Confusion Matrix')\n",
    "  df_cm_val = metrics.confusion_matrix(y_true, y_pred)\n",
    "  plt.figure(figsize = (10,7))\n",
    "  sns.heatmap(df_cm_val, annot=True, fmt='.3g')\n",
    "  plt.show()\n",
    "  print('Classification Report')\n",
    "  class_repo_val = metrics.classification_report(y_true, y_pred, output_dict=True, target_names = [\"Opacity\", \"COVID-19\", \"Normal\"])\n",
    "  print(metrics.classification_report(y_true, y_pred, target_names = [\"Opacity\", \"COVID-19\", \"Normal\"]))\n",
    "  print('F-Score')\n",
    "  f_score_val = metrics.precision_recall_fscore_support(y_true, y_pred, average = \"macro\")\n",
    "  print(f_score_val)\n",
    "  print(\"Accuracy\")\n",
    "  acc_val = metrics.accuracy_score(y_true, y_pred)\n",
    "  print(acc_val)\n",
    "  \n"
   ]
  },
  {
   "cell_type": "code",
   "execution_count": null,
   "metadata": {},
   "outputs": [],
   "source": [
    "start = time.time()\n",
    "with tf.device(\"/gpu:1\"):\n",
    "  Y_pred = model.predict(X_test, batch_size = 16)\n",
    "  y_pred = np.argmax(Y_pred, axis = 1)\n",
    "  y_true = np.argmax(Y_test, axis = 1)\n",
    "  print('Confusion Matrix')\n",
    "  df_cm_test = metrics.confusion_matrix(y_true, y_pred)\n",
    "  plt.figure(figsize = (10,7))\n",
    "  sns.heatmap(df_cm_test, annot=True, fmt='.3g')\n",
    "  plt.show()\n",
    "  print('Classification Report')\n",
    "  class_repo_test = metrics.classification_report(y_true, y_pred, output_dict=True, target_names = [\"Opacity\", \"COVID-19\", \"Normal\"])\n",
    "  print(metrics.classification_report(y_true, y_pred, target_names = [\"Opacity\", \"COVID-19\", \"Normal\"]))\n",
    "  print('F-Score')\n",
    "  f_score_test = metrics.precision_recall_fscore_support(y_true, y_pred, average = \"macro\")\n",
    "  print(f_score_test)\n",
    "  print(\"Accuracy\")\n",
    "  acc_test = metrics.accuracy_score(y_true, y_pred)\n",
    "  print(acc_test)\n",
    "\n",
    "end = time.time()\n",
    "\n",
    "final_test = start-end\n"
   ]
  },
  {
   "cell_type": "code",
   "execution_count": null,
   "metadata": {},
   "outputs": [],
   "source": [
    "time_hours = str(datetime.timedelta(seconds=tfinal))\n",
    "time_hours2 = str(datetime.timedelta(seconds=final_test))\n",
    "\n",
    "bot.send_message(\"-600800507\", f'Rede {model_name} - Treinamento Finalizado em {time_hours}')\n",
    "bot.send_message(\"-600800507\", f'Rede {model_name} - Predição Finalizada em {time_hours2}')\n",
    "bot.send_message(\"-600800507\", f'Acurácia de teste: {acc_test}')"
   ]
  },
  {
   "cell_type": "code",
   "execution_count": null,
   "metadata": {},
   "outputs": [],
   "source": [
    "n_epochs = 150\n",
    "drop = 0.5\n",
    "IMG_SIZE = (300,300,3)\n",
    "\n",
    "#csv_columns = [\"model\", \"num of layers retrain\", \"accuracy_test\", \"accuracy_train\", \"accuracy_val\", \"img_size\", \"seed\", \"precision_COVID-19\", \"recall_COVID-19\", \"f1_COVID-19\",  \"precision_Normal\", \"recall_Normal\", \"f1_Normal\", \"precision_Opacity\", \"recall_Opacity\", \"f1_Opacity\",  \"confusion matrix\", \"epochs\", \"augmentation\", \"base_learn_rate\", \"dropout\", \"opt\"]\n",
    "\n",
    "#old_csv = pd.read_csv(\"output/models_evaluation.csv\", sep=';')\n",
    "\n",
    "#old_csv.columns = csv_columns\n",
    "    \n",
    "csv = pd.DataFrame()\n",
    "csv[\"model\"] = [model_name]\n",
    "csv[\"base\"] = [\"Cohen-RICORD-Kaggle-RSNA\"]\n",
    "csv[\"tempo_treino\"] = tfinal\n",
    "csv[\"tempo_pred\"] = final_test\n",
    "csv[\"full_retrain\"] = True\n",
    "csv[\"accuracy_test\"] = [acc_test]\n",
    "csv[\"accuracy_train\"] = [acc_train]\n",
    "csv[\"accuracy_val\"] = [acc_val]\n",
    "csv[\"img_size\"] = [IMG_SIZE]\n",
    "csv[\"seed\"] = [587]\n",
    "    \n",
    "csv[\"precision_COVID-19\"] = [class_repo_test['COVID-19'][\"precision\"]]\n",
    "csv[\"recall_COVID-19\"] = [class_repo_test['COVID-19'][\"recall\"]]\n",
    "csv[\"f1_COVID-19\"] = [class_repo_test['COVID-19'][\"f1-score\"]]\n",
    "    \n",
    "csv[\"precision_Normal\"] = [class_repo_test['Normal'][\"precision\"]]\n",
    "csv[\"recall_Normal\"] = [class_repo_test['Normal'][\"recall\"]]\n",
    "csv[\"f1_Normal\"] = [class_repo_test['Normal'][\"f1-score\"]]\n",
    "    \n",
    "csv[\"precision_Opacity\"] = [class_repo_test['Opacity'][\"precision\"]]\n",
    "csv[\"recall_Opacity\"] = [class_repo_test['Opacity'][\"recall\"]]\n",
    "csv[\"f1_Opacity\"] = [class_repo_test['Opacity'][\"f1-score\"]]\n",
    "\n",
    "csv[\"Class_Repo_Train\"] = [class_repo_train]\n",
    "csv[\"Class_Repo_Val\"] = [class_repo_val]\n",
    "csv[\"Class_Repo_Test\"] = [class_repo_test]\n",
    "\n",
    "csv[\"F_Score_Train\"] = [f_score_train]\n",
    "csv[\"F_Score_Val\"] = [f_score_val]\n",
    "csv[\"F_Score_Test\"] = [f_score_test]\n",
    " \n",
    "    \n",
    "csv[\"confusion_matrix_train\"] = [df_cm_train]    \n",
    "csv[\"confusion_matrix_val\"] = [df_cm_val]    \n",
    "csv[\"confusion_matrix_test\"] = [df_cm_test]\n",
    "\n",
    "csv[\"epochs\"] = [n_epochs]\n",
    "csv[\"augmentation\"] = [\"simple\"]\n",
    "csv[\"dropout\"] = [drop]\n",
    "csv[\"opt\"] = \"Adam\"\n",
    "    \n",
    "csv[\"base_learn_rate\"] = [0.001]\n",
    "\n",
    "#new_csv = pd.concat([old_csv, csv])\n",
    "\n",
    "new_csv = csv\n",
    "\n",
    "new_csv.to_csv(\"output/models_evaluation.csv\", index=False, sep=';')"
   ]
  },
  {
   "cell_type": "code",
   "execution_count": null,
   "metadata": {},
   "outputs": [],
   "source": [
    "tf.keras.backend.clear_session()"
   ]
  },
  {
   "cell_type": "code",
   "execution_count": null,
   "metadata": {},
   "outputs": [],
   "source": [
    "model = keras.models.load_model(model_name)"
   ]
  },
  {
   "cell_type": "code",
   "execution_count": null,
   "metadata": {},
   "outputs": [],
   "source": [
    "with tf.device(\"/gpu:0\"):\n",
    "  Y_pred = model.predict(X_test, batch_size = 16)\n",
    "\n",
    "i = 1\n",
    "fpr, tpr, thresholds = roc_curve(Y_test[:, i], Y_pred[:, i])\n",
    "data = {'fpr': fpr, 'tpr': tpr, 'thresholds': thresholds}\n",
    "df = pd.DataFrame(data)\n",
    "df.to_csv(\"nonsegmented_vgg16_roc.csv\", index = False)"
   ]
  },
  {
   "cell_type": "code",
   "execution_count": null,
   "metadata": {},
   "outputs": [],
   "source": [
    "explainer = lime.lime_image.LimeImageExplainer(random_state = 587)\n",
    "\n",
    "with tf.device(\"/gpu:0\"):\n",
    "  explanation = explainer.explain_instance(\n",
    "    X_test[4,:,:,:], \n",
    "    model.predict,\n",
    "    top_labels = 1,\n",
    "    hide_color = 0, \n",
    "    num_samples = 1000,\n",
    "    batch_size = 32\n",
    "  )\n",
    "  \n",
    "temp, mask = explanation.get_image_and_mask(\n",
    "  explanation.top_labels[0], \n",
    "  positive_only = False, \n",
    "  num_features = 10, \n",
    "  hide_rest = False\n",
    ")\n",
    "\n",
    "plt.imshow(mark_boundaries(temp, mask))"
   ]
  },
  {
   "cell_type": "code",
   "execution_count": null,
   "metadata": {},
   "outputs": [],
   "source": [
    "lime_explain = np.zeros((3, 300, 300))\n",
    "\n",
    "nimages, _, _, _ = X_test.shape\n",
    "with tf.device(\"/gpu:0\"):\n",
    "  for n in range(nimages):\n",
    "    explanation = explainer.explain_instance(\n",
    "      X_test[n,:,:,0], \n",
    "      model.predict,\n",
    "      top_labels = 1,\n",
    "      hide_color = 0, \n",
    "      num_samples = 1000,\n",
    "      batch_size = 32\n",
    "    )\n",
    "    \n",
    "    top_label = explanation.top_labels[0]\n",
    "    \n",
    "    temp, mask = explanation.get_image_and_mask(\n",
    "      explanation.top_labels[0], \n",
    "      positive_only = True, \n",
    "      num_features = 5, \n",
    "      hide_rest = False\n",
    "    )\n",
    "    \n",
    "    lime_explain[top_label,:,:] = np.add(lime_explain[top_label,:,:], mask)\n",
    "  "
   ]
  },
  {
   "cell_type": "code",
   "execution_count": null,
   "metadata": {},
   "outputs": [],
   "source": [
    "fig, ax = plt.subplots()\n",
    "fig.set_size_inches(20, 20)\n",
    "sns.heatmap(lime_explain[0,:,:], cmap = \"YlOrRd\", xticklabels = False, yticklabels = False, cbar = False)"
   ]
  },
  {
   "cell_type": "code",
   "execution_count": null,
   "metadata": {},
   "outputs": [],
   "source": [
    "fig, ax = plt.subplots()\n",
    "fig.set_size_inches(20, 20)\n",
    "sns.heatmap(lime_explain[1,:,:], cmap = \"YlOrRd\", xticklabels = False, yticklabels = False, cbar = False)"
   ]
  },
  {
   "cell_type": "code",
   "execution_count": null,
   "metadata": {},
   "outputs": [],
   "source": [
    "fig, ax = plt.subplots()\n",
    "fig.set_size_inches(20, 20)\n",
    "sns.heatmap(lime_explain[2,:,:], cmap = \"YlOrRd\", xticklabels = False, yticklabels = False, cbar = False)"
   ]
  },
  {
   "cell_type": "code",
   "execution_count": null,
   "metadata": {},
   "outputs": [],
   "source": [
    "# Grad-CAM\n",
    "class GradCAM:\n",
    "  def __init__(self, model, classIdx, baseModel = None, layerName = None):\n",
    "    # store the model, the class index used to measure the class\n",
    "    # activation map, and the layer to be used when visualizing\n",
    "    # the class activation map\n",
    "    if baseModel:\n",
    "      self.model = model.get_layer(baseModel)\n",
    "    else:\n",
    "      self.model = model\n",
    "    self.classIdx = classIdx\n",
    "    self.layerName = layerName\n",
    "    # if the layer name is None, attempt to automatically find\n",
    "    # the target output layer\n",
    "    if self.layerName is None:\n",
    "      self.layerName = self.find_target_layer()\n",
    "\n",
    "  def find_target_layer(self):\n",
    "    # attempt to find the final convolutional layer in the network\n",
    "    # by looping over the layers of the network in reverse order\n",
    "    for layer in reversed(self.model.layers):\n",
    "        # check to see if the layer has a 4D output\n",
    "        if len(layer.output_shape) == 4:\n",
    "            return layer.name\n",
    "    # otherwise, we could not find a 4D layer so the GradCAM\n",
    "    # algorithm cannot be applied\n",
    "    raise ValueError(\"Could not find 4D layer. Cannot apply GradCAM.\")\n",
    "\n",
    "  def compute_heatmap(self, image, eps=1e-8):\n",
    "    # construct our gradient model by supplying (1) the inputs\n",
    "    # to our pre-trained model, (2) the output of the (presumably)\n",
    "    # final 4D layer in the network, and (3) the output of the\n",
    "    # softmax activations from the model\n",
    "    gradModel = keras.Model(\n",
    "      inputs=[self.model.inputs],\n",
    "      outputs=[self.model.get_layer(self.layerName).output,\n",
    "        self.model.output])\n",
    "\n",
    "    # record operations for automatic differentiation\n",
    "    with tf.GradientTape() as tape:\n",
    "      # cast the image tensor to a float-32 data type, pass the\n",
    "      # image through the gradient model, and grab the loss\n",
    "      # associated with the specific class index\n",
    "      inputs = tf.cast(image, tf.float32)\n",
    "      (convOutputs, predictions) = gradModel(inputs)\n",
    "      loss = predictions[:, self.classIdx]\n",
    "    # use automatic differentiation to compute the gradients\n",
    "    grads = tape.gradient(loss, convOutputs)\n",
    "\n",
    "    # compute the guided gradients\n",
    "    castConvOutputs = tf.cast(convOutputs > 0, \"float32\")\n",
    "    castGrads = tf.cast(grads > 0, \"float32\")\n",
    "    guidedGrads = castConvOutputs * castGrads * grads\n",
    "    # the convolution and guided gradients have a batch dimension\n",
    "    # (which we don't need) so let's grab the volume itself and\n",
    "    # discard the batch\n",
    "    convOutputs = convOutputs[0]\n",
    "    guidedGrads = guidedGrads[0]\n",
    "\n",
    "    # compute the average of the gradient values, and using them\n",
    "    # as weights, compute the ponderation of the filters with\n",
    "    # respect to the weights\n",
    "    weights = tf.reduce_mean(guidedGrads, axis=(0, 1))\n",
    "    cam = tf.reduce_sum(tf.multiply(weights, convOutputs), axis=-1)\n",
    "\n",
    "    # grab the spatial dimensions of the input image and resize\n",
    "    # the output class activation map to match the input image\n",
    "    # dimensions\n",
    "    (w, h) = (image.shape[2], image.shape[1])\n",
    "    heatmap = cv2.resize(cam.numpy(), (w, h))\n",
    "    # normalize the heatmap such that all values lie in the range\n",
    "    # [0, 1], scale the resulting values to the range [0, 255],\n",
    "    # and then convert to an unsigned 8-bit integer\n",
    "    numer = heatmap - np.min(heatmap)\n",
    "    denom = (heatmap.max() - heatmap.min()) + eps\n",
    "    heatmap = numer / denom\n",
    "    heatmap = (heatmap * 255).astype(\"uint8\")\n",
    "    # return the resulting heatmap to the calling function\n",
    "    return heatmap\n",
    "\n",
    "  def overlay_heatmap(self, heatmap, image, alpha=0.5, colormap=cv2.COLORMAP_VIRIDIS):\n",
    "    # apply the supplied color map to the heatmap and then\n",
    "    # overlay the heatmap on the input image\n",
    "    image = img_as_ubyte(image)\n",
    "    heatmap = cv2.applyColorMap(heatmap, colormap)\n",
    "    output = cv2.addWeighted(image, alpha, heatmap, 1 - alpha, 0)\n",
    "    # return a 2-tuple of the color mapped heatmap and the output,\n",
    "    # overlaid image\n",
    "    return (heatmap, output)\n",
    "\n",
    "\n",
    "idx = 33\n",
    "image = X_test[idx:(idx+1),:,:,:]\n",
    "preds = model.predict(image)\n",
    "i = np.argmax(preds[0])\n",
    "\n",
    "cam = GradCAM(model, i, baseModel = \"vgg16\")\n",
    "heatmap = cam.compute_heatmap(image)\n",
    "heatmap = cv2.applyColorMap(heatmap, cv2.COLORMAP_VIRIDIS)\n",
    "(heatmap, output) = cam.overlay_heatmap(heatmap, image[0,:,:,:], alpha = 0.3)\n",
    "plt.imshow(output)"
   ]
  },
  {
   "cell_type": "code",
   "execution_count": null,
   "metadata": {},
   "outputs": [],
   "source": [
    "fig, ax = plt.subplots()\n",
    "fig.set_size_inches(20, 20)\n",
    "plt.imshow(output)"
   ]
  },
  {
   "cell_type": "code",
   "execution_count": null,
   "metadata": {},
   "outputs": [],
   "source": [
    "gradcam_explain = np.zeros((3, 300, 300))\n",
    "\n",
    "nimages, _, _, _ = X_test.shape\n",
    "with tf.device(\"/gpu:0\"):\n",
    "  for n in range(nimages):\n",
    "    image = X_test[n,:,:,:].reshape(1, 300, 300, 3)\n",
    "    preds = model.predict(image)\n",
    "    top_label = np.argmax(preds[0])\n",
    "\n",
    "    cam = GradCAM(model, top_label, baseModel = \"vgg16\")#, layerName = \"mixed10\")\n",
    "    heatmap = cam.compute_heatmap(image)\n",
    "    heatmap = heatmap / 255\n",
    "    \n",
    "    gradcam_explain[top_label,:,:] = np.add(gradcam_explain[top_label,:,:], heatmap)\n",
    "    "
   ]
  },
  {
   "cell_type": "code",
   "execution_count": null,
   "metadata": {},
   "outputs": [],
   "source": [
    "fig, ax = plt.subplots()\n",
    "fig.set_size_inches(20, 20)\n",
    "sns.heatmap(gradcam_explain[0,:,:], cmap = \"YlOrRd\", xticklabels = False, yticklabels = False, cbar = False)"
   ]
  },
  {
   "cell_type": "code",
   "execution_count": null,
   "metadata": {},
   "outputs": [],
   "source": [
    "fig, ax = plt.subplots()\n",
    "fig.set_size_inches(20, 20)\n",
    "sns.heatmap(gradcam_explain[1,:,:], cmap = \"YlOrRd\", xticklabels = False, yticklabels = False, cbar = False)"
   ]
  },
  {
   "cell_type": "code",
   "execution_count": null,
   "metadata": {},
   "outputs": [],
   "source": [
    "fig, ax = plt.subplots()\n",
    "fig.set_size_inches(20, 20)\n",
    "sns.heatmap(gradcam_explain[2,:,:], cmap = \"YlOrRd\", xticklabels = False, yticklabels = False, cbar = False)"
   ]
  },
  {
   "cell_type": "code",
   "execution_count": null,
   "metadata": {},
   "outputs": [],
   "source": []
  }
 ],
 "metadata": {
  "kernelspec": {
   "display_name": "Python 3",
   "language": "python",
   "name": "python3"
  },
  "language_info": {
   "codemirror_mode": {
    "name": "ipython",
    "version": 3
   },
   "file_extension": ".py",
   "mimetype": "text/x-python",
   "name": "python",
   "nbconvert_exporter": "python",
   "pygments_lexer": "ipython3",
   "version": "3.8.11"
  }
 },
 "nbformat": 4,
 "nbformat_minor": 4
}
