{
 "cells": [
  {
   "cell_type": "code",
   "execution_count": 1,
   "id": "outside-swiss",
   "metadata": {},
   "outputs": [
    {
     "name": "stdout",
     "output_type": "stream",
     "text": [
      "gpus existem\n",
      "[PhysicalDevice(name='/physical_device:GPU:0', device_type='GPU')]\n"
     ]
    },
    {
     "data": {
      "text/plain": [
       "{'ok': True,\n",
       " 'result': {'id': 2058519653,\n",
       "  'is_bot': True,\n",
       "  'first_name': 'cnn_covid',\n",
       "  'username': 'cnn_covid_bot',\n",
       "  'can_join_groups': True,\n",
       "  'can_read_all_group_messages': False,\n",
       "  'supports_inline_queries': False}}"
      ]
     },
     "execution_count": 1,
     "metadata": {},
     "output_type": "execute_result"
    }
   ],
   "source": [
    "import numpy as np\n",
    "import os\n",
    "import math\n",
    "import matplotlib.pyplot as plt\n",
    "import seaborn as sns\n",
    "import scipy.ndimage\n",
    "import skimage\n",
    "from skimage import io\n",
    "from skimage.segmentation import mark_boundaries\n",
    "from skimage.util import img_as_ubyte\n",
    "\n",
    "import cv2\n",
    "from albumentations import (\n",
    "    Compose, HorizontalFlip, ShiftScaleRotate, ElasticTransform,\n",
    "    RandomBrightness, RandomContrast, RandomGamma, CLAHE\n",
    ")\n",
    "\n",
    "import sklearn\n",
    "from sklearn import metrics\n",
    "from sklearn.metrics import roc_curve, auc\n",
    "from sklearn.utils import shuffle\n",
    "from sklearn.model_selection import train_test_split\n",
    "import telebot\n",
    "import time\n",
    "import tensorflow as tf\n",
    "from tensorflow import keras\n",
    "\n",
    "import lime\n",
    "from lime import lime_image\n",
    "\n",
    "import pandas as pd\n",
    "\n",
    "gpus = tf.config.experimental.list_physical_devices(\"GPU\")\n",
    "if gpus:\n",
    "  try:\n",
    "    print(\"gpus existem\")\n",
    "    print(gpus)\n",
    "    # Currently, memory growth needs to be the same across GPUs\n",
    "    for gpu in gpus:\n",
    "      tf.config.experimental.set_memory_growth(gpu, True)\n",
    "  except RuntimeError as e:\n",
    "    print(e)\n",
    "    \n",
    "    \n",
    "TELEBOT_TOKEN = \"2058519653:AAG5Kf0Othtye8e13F5WPnBQQSdoCt47ifA\"\n",
    "\n",
    "bot = telebot.TeleBot(\"2058519653:AAG5Kf0Othtye8e13F5WPnBQQSdoCt47ifA\")\n",
    "bot.config['api_key'] = TELEBOT_TOKEN\n",
    "bot.get_me()"
   ]
  },
  {
   "cell_type": "markdown",
   "id": "duplicate-receptor",
   "metadata": {},
   "source": [
    "## Load Datasets\n"
   ]
  },
  {
   "cell_type": "code",
   "execution_count": 2,
   "id": "educational-success",
   "metadata": {},
   "outputs": [],
   "source": [
    "X_val = np.load('input/X_val.npy')\n",
    "Y_val = np.load('input/Y_val.npy')\n",
    "\n",
    "X_train = np.load('input/X_train.npy')\n",
    "Y_train = np.load('input/Y_train.npy')\n",
    "\n",
    "X_test = np.load('input/X_test.npy')\n",
    "Y_test = np.load('input/Y_test.npy')\n",
    "\n",
    "steps_per_epoch = 321"
   ]
  },
  {
   "cell_type": "markdown",
   "id": "outstanding-athletics",
   "metadata": {},
   "source": [
    "## Load Model"
   ]
  },
  {
   "cell_type": "code",
   "execution_count": 3,
   "id": "pursuant-sensitivity",
   "metadata": {},
   "outputs": [],
   "source": [
    "tf.keras.backend.clear_session()\n",
    "model_name = \"cache/tl_vgg16_finetune_cd.h5\"\n",
    "model = keras.models.load_model(model_name)"
   ]
  },
  {
   "cell_type": "markdown",
   "id": "strong-munich",
   "metadata": {},
   "source": [
    "## Eval Train"
   ]
  },
  {
   "cell_type": "code",
   "execution_count": 4,
   "id": "external-crisis",
   "metadata": {},
   "outputs": [],
   "source": [
    "train1, train2, train3, train4 = np.array_split(X_train, 4)\n",
    "\n",
    "train1 = np.stack((train1,) * 3, axis= -1)\n",
    "train2 =  np.stack((train2,) * 3, axis= -1)\n",
    "train3 =  np.stack((train3,) * 3, axis= -1)\n",
    "train4 = np.stack((train4,) * 3, axis= -1)\n",
    "\n",
    "del(X_train)"
   ]
  },
  {
   "cell_type": "code",
   "execution_count": 5,
   "id": "incomplete-purse",
   "metadata": {},
   "outputs": [],
   "source": [
    "Y_pred = model.predict(train1, batch_size=16)\n",
    "del(train1)"
   ]
  },
  {
   "cell_type": "code",
   "execution_count": 6,
   "id": "aging-objective",
   "metadata": {},
   "outputs": [],
   "source": [
    "Y_pred1 = model.predict(train2, batch_size=16)\n",
    "del(train2)"
   ]
  },
  {
   "cell_type": "code",
   "execution_count": 7,
   "id": "purple-shadow",
   "metadata": {},
   "outputs": [],
   "source": [
    "Y_pred2 = model.predict(train3, batch_size=16)\n",
    "del(train3)"
   ]
  },
  {
   "cell_type": "code",
   "execution_count": 8,
   "id": "convinced-folks",
   "metadata": {},
   "outputs": [],
   "source": [
    "Y_pred3 = model.predict(train4, batch_size=16)\n",
    "del(train4)"
   ]
  },
  {
   "cell_type": "code",
   "execution_count": 9,
   "id": "unlimited-steal",
   "metadata": {},
   "outputs": [],
   "source": [
    "y_pred = np.concatenate((Y_pred, Y_pred1, Y_pred2, Y_pred3))\n",
    "del(Y_pred, Y_pred1, Y_pred2, Y_pred3)"
   ]
  },
  {
   "cell_type": "code",
   "execution_count": 10,
   "id": "southern-passion",
   "metadata": {},
   "outputs": [
    {
     "name": "stdout",
     "output_type": "stream",
     "text": [
      "Confusion Matrix\n"
     ]
    },
    {
     "data": {
      "image/png": "[encoded data removed]",
      "text/plain": [
       "<Figure size 720x504 with 2 Axes>"
      ]
     },
     "metadata": {
      "needs_background": "light"
     },
     "output_type": "display_data"
    },
    {
     "name": "stdout",
     "output_type": "stream",
     "text": [
      "Classification Report\n",
      "              precision    recall  f1-score   support\n",
      "\n",
      "     Opacity       1.00      1.00      1.00      1799\n",
      "    COVID-19       1.00      1.00      1.00      1645\n",
      "      Normal       1.00      1.00      1.00      1685\n",
      "\n",
      "    accuracy                           1.00      5129\n",
      "   macro avg       1.00      1.00      1.00      5129\n",
      "weighted avg       1.00      1.00      1.00      5129\n",
      "\n",
      "F-Score\n",
      "(0.9992421186698598, 0.9992164297583885, 0.9992290539750993, None)\n",
      "Accuracy\n",
      "0.9992201208812634\n"
     ]
    }
   ],
   "source": [
    "y_pred = np.argmax(y_pred, axis = 1)\n",
    "y_true = np.argmax(Y_train, axis = 1)\n",
    "print('Confusion Matrix')\n",
    "df_cm_train = metrics.confusion_matrix(y_true, y_pred)\n",
    "plt.figure(figsize = (10,7))\n",
    "sns.heatmap(df_cm_train, annot=True, fmt='.4g')\n",
    "plt.show()\n",
    "print('Classification Report')\n",
    "class_repo_train = metrics.classification_report(y_true, y_pred, output_dict=True, target_names = [\"Opacity\", \"COVID-19\", \"Normal\"])\n",
    "print(metrics.classification_report(y_true, y_pred, target_names = [\"Opacity\", \"COVID-19\", \"Normal\"]))\n",
    "print('F-Score')\n",
    "f_score_train = metrics.precision_recall_fscore_support(y_true, y_pred, average = \"macro\")\n",
    "print(f_score_train)\n",
    "print(\"Accuracy\")\n",
    "acc_train = metrics.accuracy_score(y_true, y_pred)\n",
    "print(acc_train)"
   ]
  },
  {
   "cell_type": "markdown",
   "id": "favorite-commander",
   "metadata": {},
   "source": [
    "## Eval Val"
   ]
  },
  {
   "cell_type": "code",
   "execution_count": 11,
   "id": "smooth-aside",
   "metadata": {},
   "outputs": [
    {
     "name": "stdout",
     "output_type": "stream",
     "text": [
      "Confusion Matrix\n"
     ]
    },
    {
     "data": {
      "image/png": "[encoded data removed]",
      "text/plain": [
       "<Figure size 720x504 with 2 Axes>"
      ]
     },
     "metadata": {
      "needs_background": "light"
     },
     "output_type": "display_data"
    },
    {
     "name": "stdout",
     "output_type": "stream",
     "text": [
      "Classification Report\n",
      "              precision    recall  f1-score   support\n",
      "\n",
      "     Opacity       0.93      0.92      0.92       443\n",
      "    COVID-19       0.97      0.97      0.97       414\n",
      "      Normal       0.93      0.94      0.94       426\n",
      "\n",
      "    accuracy                           0.94      1283\n",
      "   macro avg       0.94      0.94      0.94      1283\n",
      "weighted avg       0.94      0.94      0.94      1283\n",
      "\n",
      "F-Score\n",
      "(0.9434855275407673, 0.943688312797363, 0.943569709721289, None)\n",
      "Accuracy\n",
      "0.9431021044427124\n"
     ]
    }
   ],
   "source": [
    "Y_pred = model.predict(X_val, batch_size = 16)\n",
    "y_pred = np.argmax(Y_pred, axis = 1)\n",
    "y_true = np.argmax(Y_val, axis = 1)\n",
    "print('Confusion Matrix')\n",
    "df_cm_val = metrics.confusion_matrix(y_true, y_pred)\n",
    "plt.figure(figsize = (10,7))\n",
    "sns.heatmap(df_cm_val, annot=True, fmt='.3g')\n",
    "plt.show()\n",
    "print('Classification Report')\n",
    "class_repo_val = metrics.classification_report(y_true, y_pred, output_dict=True, target_names = [\"Opacity\", \"COVID-19\", \"Normal\"])\n",
    "print(metrics.classification_report(y_true, y_pred, target_names = [\"Opacity\", \"COVID-19\", \"Normal\"]))\n",
    "print('F-Score')\n",
    "f_score_val = metrics.precision_recall_fscore_support(y_true, y_pred, average = \"macro\")\n",
    "print(f_score_val)\n",
    "print(\"Accuracy\")\n",
    "acc_val = metrics.accuracy_score(y_true, y_pred)\n",
    "print(acc_val)"
   ]
  },
  {
   "cell_type": "markdown",
   "id": "orange-doctrine",
   "metadata": {},
   "source": [
    "## Eval Test"
   ]
  },
  {
   "cell_type": "code",
   "execution_count": 12,
   "id": "subsequent-locking",
   "metadata": {},
   "outputs": [
    {
     "name": "stdout",
     "output_type": "stream",
     "text": [
      "Confusion Matrix\n"
     ]
    },
    {
     "data": {
      "image/png": "[encoded data removed]",
      "text/plain": [
       "<Figure size 720x504 with 2 Axes>"
      ]
     },
     "metadata": {
      "needs_background": "light"
     },
     "output_type": "display_data"
    },
    {
     "name": "stdout",
     "output_type": "stream",
     "text": [
      "Classification Report\n",
      "              precision    recall  f1-score   support\n",
      "\n",
      "     Opacity       0.92      0.90      0.91       536\n",
      "    COVID-19       0.96      0.97      0.97       502\n",
      "      Normal       0.91      0.93      0.92       507\n",
      "\n",
      "    accuracy                           0.93      1545\n",
      "   macro avg       0.93      0.93      0.93      1545\n",
      "weighted avg       0.93      0.93      0.93      1545\n",
      "\n",
      "F-Score\n",
      "(0.931686249360537, 0.9320960781873732, 0.9318470212891382, None)\n",
      "Accuracy\n",
      "0.9313915857605178\n"
     ]
    }
   ],
   "source": [
    "start = time.time()\n",
    "\n",
    "Y_pred = model.predict(X_test, batch_size = 16)\n",
    "y_pred = np.argmax(Y_pred, axis = 1)\n",
    "y_true = np.argmax(Y_test, axis = 1)\n",
    "\n",
    "print('Confusion Matrix')\n",
    "df_cm_test = metrics.confusion_matrix(y_true, y_pred)\n",
    "cm_labels = [\"Opacity\", \"COVID-19\", \"Normal\"]\n",
    "cm_array = df_cm_test\n",
    "cm_array_df = pd.DataFrame(cm_array, index=cm_labels, columns=cm_labels)\n",
    "plt.figure(figsize = (10,7))\n",
    "sns.heatmap(cm_array_df, annot=True, fmt='.3g') \n",
    "plt.show()\n",
    "\n",
    "print('Classification Report')\n",
    "class_repo_test = metrics.classification_report(y_true, y_pred, output_dict=True, target_names = [\"Opacity\", \"COVID-19\", \"Normal\"])\n",
    "print(metrics.classification_report(y_true, y_pred, target_names = [\"Opacity\", \"COVID-19\", \"Normal\"]))\n",
    "print('F-Score')\n",
    "f_score_test = metrics.precision_recall_fscore_support(y_true, y_pred, average = \"macro\")\n",
    "print(f_score_test)\n",
    "print(\"Accuracy\")\n",
    "acc_test = metrics.accuracy_score(y_true, y_pred)\n",
    "print(acc_test)\n",
    "\n",
    "end = time.time()\n",
    "\n",
    "final_test = end-start"
   ]
  },
  {
   "cell_type": "markdown",
   "id": "lesser-surrey",
   "metadata": {},
   "source": [
    "## Eval Test 2 "
   ]
  },
  {
   "cell_type": "code",
   "execution_count": 13,
   "id": "regulated-train",
   "metadata": {},
   "outputs": [],
   "source": [
    "tf.keras.backend.clear_session()\n",
    "model_name = \"cache/tl_vgg16_finetune_cd.h5\"\n",
    "model = keras.models.load_model(model_name)\n",
    "\n",
    "X_test2 = np.load('input/X_test2.npy')\n",
    "Y_test2 = np.load('input/Y_test2.npy')\n"
   ]
  },
  {
   "cell_type": "code",
   "execution_count": 14,
   "id": "virtual-general",
   "metadata": {},
   "outputs": [
    {
     "name": "stdout",
     "output_type": "stream",
     "text": [
      "Confusion Matrix\n"
     ]
    },
    {
     "data": {
      "image/png": "[encoded data removed]",
      "text/plain": [
       "<Figure size 720x504 with 2 Axes>"
      ]
     },
     "metadata": {
      "needs_background": "light"
     },
     "output_type": "display_data"
    },
    {
     "name": "stdout",
     "output_type": "stream",
     "text": [
      "Classification Report\n",
      "              precision    recall  f1-score   support\n",
      "\n",
      "     Opacity       0.91      0.32      0.48      1193\n",
      "    COVID-19       0.36      0.90      0.52       746\n",
      "      Normal       0.46      0.12      0.19       455\n",
      "\n",
      "    accuracy                           0.47      2394\n",
      "   macro avg       0.58      0.45      0.40      2394\n",
      "weighted avg       0.66      0.47      0.44      2394\n",
      "\n",
      "F-Score\n",
      "(0.5779455135876225, 0.4496473522739341, 0.39619607183479766, None)\n",
      "Accuracy\n",
      "0.4653299916457811\n"
     ]
    }
   ],
   "source": [
    "Y_pred = model.predict(X_test2, batch_size = 6)\n",
    "y_pred = np.argmax(Y_pred, axis = 1)\n",
    "y_true = np.argmax(Y_test2, axis = 1)\n",
    "\n",
    "print('Confusion Matrix')\n",
    "df_cm_test2 = metrics.confusion_matrix(y_true, y_pred)\n",
    "cm_labels = [\"Opacity\", \"COVID-19\", \"Normal\"]\n",
    "cm_array = df_cm_test2\n",
    "cm_array_df = pd.DataFrame(cm_array, index=cm_labels, columns=cm_labels)\n",
    "plt.figure(figsize = (10,7))\n",
    "sns.heatmap(cm_array_df, annot=True, fmt='.4g') \n",
    "plt.show()\n",
    "\n",
    "\n",
    "\n",
    "\n",
    "print('Classification Report')\n",
    "class_repo_test2 = metrics.classification_report(y_true, y_pred, output_dict=True, target_names = [\"Opacity\", \"COVID-19\", \"Normal\"])\n",
    "print(metrics.classification_report(y_true, y_pred, target_names = [\"Opacity\", \"COVID-19\", \"Normal\"]))\n",
    "print('F-Score')\n",
    "f_score_test2 = metrics.precision_recall_fscore_support(y_true, y_pred, average = \"macro\")\n",
    "print(f_score_test2)\n",
    "print(\"Accuracy\")\n",
    "acc_test2 = metrics.accuracy_score(y_true, y_pred)\n",
    "print(acc_test2)\n"
   ]
  },
  {
   "cell_type": "markdown",
   "id": "lyric-wells",
   "metadata": {},
   "source": [
    "## Load prior times"
   ]
  },
  {
   "cell_type": "code",
   "execution_count": 15,
   "id": "dependent-flight",
   "metadata": {},
   "outputs": [],
   "source": [
    "with open('input/time_train.txt', 'r') as file:\n",
    "    t1 = file.read().rstrip()\n",
    "    \n",
    "with open('input/time_train_2.txt', 'r') as file:\n",
    "    t2 = file.read().rstrip()"
   ]
  },
  {
   "cell_type": "code",
   "execution_count": 16,
   "id": "metropolitan-poster",
   "metadata": {},
   "outputs": [
    {
     "data": {
      "text/plain": [
       "'5073.760390996933'"
      ]
     },
     "execution_count": 16,
     "metadata": {},
     "output_type": "execute_result"
    }
   ],
   "source": [
    "t1"
   ]
  },
  {
   "cell_type": "code",
   "execution_count": 17,
   "id": "interested-hampton",
   "metadata": {},
   "outputs": [
    {
     "data": {
      "text/plain": [
       "11100.454421520233"
      ]
     },
     "execution_count": 17,
     "metadata": {},
     "output_type": "execute_result"
    }
   ],
   "source": [
    "float(t2)"
   ]
  },
  {
   "cell_type": "code",
   "execution_count": 18,
   "id": "heavy-large",
   "metadata": {},
   "outputs": [],
   "source": [
    "tfinal = float(t1) + float(t2)"
   ]
  },
  {
   "cell_type": "code",
   "execution_count": 19,
   "id": "conscious-humidity",
   "metadata": {},
   "outputs": [],
   "source": [
    "import datetime"
   ]
  },
  {
   "cell_type": "markdown",
   "id": "super-weather",
   "metadata": {},
   "source": [
    "## Send Bot Msg"
   ]
  },
  {
   "cell_type": "code",
   "execution_count": 20,
   "id": "respected-latitude",
   "metadata": {},
   "outputs": [
    {
     "data": {
      "text/plain": [
       "{'ok': True,\n",
       " 'result': {'message_id': 529,\n",
       "  'from': {'id': 2058519653,\n",
       "   'is_bot': True,\n",
       "   'first_name': 'cnn_covid',\n",
       "   'username': 'cnn_covid_bot'},\n",
       "  'chat': {'id': -600800507,\n",
       "   'title': 'covid accuracy - cnn',\n",
       "   'type': 'group',\n",
       "   'all_members_are_administrators': True},\n",
       "  'date': 1645666516,\n",
       "  'text': 'Acurácia de teste: 0.9313915857605178'}}"
      ]
     },
     "execution_count": 20,
     "metadata": {},
     "output_type": "execute_result"
    }
   ],
   "source": [
    "time_hours = str(datetime.timedelta(seconds=tfinal))\n",
    "time_hours2 = str(datetime.timedelta(seconds=final_test))\n",
    "\n",
    "bot.send_message(\"-600800507\", f'Rede {model_name} - Treinamento Finalizado em {time_hours}')\n",
    "bot.send_message(\"-600800507\", f'Rede {model_name} - Predição Finalizada em {time_hours2}')\n",
    "bot.send_message(\"-600800507\", f'Acurácia de teste: {acc_test}')"
   ]
  },
  {
   "cell_type": "markdown",
   "id": "japanese-sugar",
   "metadata": {},
   "source": [
    "## Save Data"
   ]
  },
  {
   "cell_type": "code",
   "execution_count": 21,
   "id": "frank-statistics",
   "metadata": {},
   "outputs": [],
   "source": [
    "n_epochs = 150\n",
    "drop = 0.5\n",
    "IMG_SIZE = (300,300,3)\n",
    "ind = 1\n",
    "\n",
    "#csv_columns = [\"model\", \"num of layers retrain\", \"accuracy_test\", \"accuracy_train\", \"accuracy_val\", \"img_size\", \"seed\", \"precision_COVID-19\", \"recall_COVID-19\", \"f1_COVID-19\",  \"precision_Normal\", \"recall_Normal\", \"f1_Normal\", \"precision_Opacity\", \"recall_Opacity\", \"f1_Opacity\",  \"confusion matrix\", \"epochs\", \"augmentation\", \"base_learn_rate\", \"dropout\", \"opt\"]\n",
    "\n",
    "#old_csv = pd.read_csv(\"output/models_evaluation.csv\", sep=';')\n",
    "\n",
    "#old_csv.columns = csv_columns\n",
    "    \n",
    "csv = pd.DataFrame()\n",
    "csv[\"model\"] = [model_name]\n",
    "csv[\"base\"] = [\"Cohen-RICORD-Kaggle-RSNA\"]\n",
    "csv[\"tempo_treino\"] = tfinal\n",
    "csv[\"tempo_pred\"] = final_test\n",
    "csv[\"full_retrain\"] = True\n",
    "csv[\"accuracy_test\"] = [acc_test]\n",
    "csv[\"accuracy_test_diff\"] = [acc_test2]\n",
    "csv[\"accuracy_train\"] = [acc_train]\n",
    "csv[\"accuracy_val\"] = [acc_val]\n",
    "csv[\"img_size\"] = [IMG_SIZE]\n",
    "csv[\"seed\"] = [587]\n",
    "    \n",
    "csv[\"precision_COVID-19\"] = [class_repo_test['COVID-19'][\"precision\"]]\n",
    "csv[\"recall_COVID-19\"] = [class_repo_test['COVID-19'][\"recall\"]]\n",
    "csv[\"f1_COVID-19\"] = [class_repo_test['COVID-19'][\"f1-score\"]]\n",
    "    \n",
    "csv[\"precision_Normal\"] = [class_repo_test['Normal'][\"precision\"]]\n",
    "csv[\"recall_Normal\"] = [class_repo_test['Normal'][\"recall\"]]\n",
    "csv[\"f1_Normal\"] = [class_repo_test['Normal'][\"f1-score\"]]\n",
    "    \n",
    "csv[\"precision_Opacity\"] = [class_repo_test['Opacity'][\"precision\"]]\n",
    "csv[\"recall_Opacity\"] = [class_repo_test['Opacity'][\"recall\"]]\n",
    "csv[\"f1_Opacity\"] = [class_repo_test['Opacity'][\"f1-score\"]]\n",
    "\n",
    "\n",
    "csv[\"Class_Repo_Train\"] = [class_repo_train]\n",
    "csv[\"Class_Repo_Val\"] = [class_repo_val]\n",
    "csv[\"Class_Repo_Test\"] = [class_repo_test]\n",
    "csv[\"Class_Repo_Test_diff\"] = [class_repo_test2]\n",
    "\n",
    "csv[\"F_Score_Train\"] = [f_score_train]\n",
    "csv[\"F_Score_Val\"] = [f_score_val]\n",
    "csv[\"F_Score_Test\"] = [f_score_test]\n",
    "csv[\"F_Score_Test_diff\"] = [f_score_test2]\n",
    " \n",
    "    \n",
    "csv[\"confusion_matrix_train\"] = [df_cm_train]    \n",
    "csv[\"confusion_matrix_val\"] = [df_cm_val]    \n",
    "csv[\"confusion_matrix_test\"] = [df_cm_test]\n",
    "csv[\"confusion_matrix_test_diff\"] = [df_cm_test2]\n",
    "\n",
    "csv[\"epochs\"] = [n_epochs]\n",
    "csv[\"augmentation\"] = [\"simple\"]\n",
    "csv[\"dropout\"] = [drop]\n",
    "csv[\"opt\"] = \"Adam\"\n",
    "    \n",
    "csv[\"base_learn_rate\"] = [0.001]\n",
    "csv[\"id\"] = ind\n",
    "\n",
    "#new_csv = pd.concat([old_csv, csv])\n",
    "\n",
    "new_csv = csv\n",
    "\n",
    "new_csv.to_csv(\"output/models_evaluation.csv\", index=False, sep=';')"
   ]
  },
  {
   "cell_type": "markdown",
   "id": "timely-frontier",
   "metadata": {},
   "source": [
    "## ROC Curve"
   ]
  },
  {
   "cell_type": "code",
   "execution_count": 22,
   "id": "classical-federation",
   "metadata": {},
   "outputs": [],
   "source": [
    "tf.keras.backend.clear_session()\n",
    "model = keras.models.load_model(model_name)\n",
    "\n",
    "Y_pred = model.predict(X_test, batch_size = 16)\n",
    "\n",
    "i = 1\n",
    "fpr, tpr, thresholds = roc_curve(Y_test[:, i], Y_pred[:, i])\n",
    "data = {'fpr': fpr, 'tpr': tpr, 'thresholds': thresholds}\n",
    "df = pd.DataFrame(data)\n",
    "df.to_csv(f\"output/nonsegmented_vgg16_roc_{ind}.csv\", index = False)"
   ]
  }
 ],
 "metadata": {
  "kernelspec": {
   "display_name": "Python [conda env:tensorflow] *",
   "language": "python",
   "name": "conda-env-tensorflow-py"
  },
  "language_info": {
   "codemirror_mode": {
    "name": "ipython",
    "version": 3
   },
   "file_extension": ".py",
   "mimetype": "text/x-python",
   "name": "python",
   "nbconvert_exporter": "python",
   "pygments_lexer": "ipython3",
   "version": "3.8.11"
  }
 },
 "nbformat": 4,
 "nbformat_minor": 5
}
