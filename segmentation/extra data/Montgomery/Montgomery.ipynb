{
 "cells": [
  {
   "cell_type": "code",
   "execution_count": 1,
   "id": "hawaiian-liechtenstein",
   "metadata": {},
   "outputs": [],
   "source": [
    "import pandas as pd\n",
    "import os\n",
    "import shutil"
   ]
  },
  {
   "cell_type": "code",
   "execution_count": 2,
   "id": "massive-hybrid",
   "metadata": {},
   "outputs": [],
   "source": [
    "list_txt = []\n",
    "path = '/home/dell/Documentos/NLM-MontgomeryCXRSet/'\n",
    "\n",
    "for root, dirs, files in os.walk(path):\n",
    "    for file in files:\n",
    "        if(file.endswith(\".txt\")):\n",
    "            file = os.path.join(root,file)\n",
    "            list_txt.append(file)\n",
    "            "
   ]
  },
  {
   "cell_type": "code",
   "execution_count": 3,
   "id": "ignored-kingdom",
   "metadata": {},
   "outputs": [
    {
     "data": {
      "text/plain": [
       "['/home/dell/Documentos/NLM-MontgomeryCXRSet/MontgomerySet/ClinicalReadings/MCUCXR_0228_1.txt',\n",
       " '/home/dell/Documentos/NLM-MontgomeryCXRSet/MontgomerySet/ClinicalReadings/MCUCXR_0021_0.txt',\n",
       " '/home/dell/Documentos/NLM-MontgomeryCXRSet/MontgomerySet/ClinicalReadings/MCUCXR_0264_1.txt',\n",
       " '/home/dell/Documentos/NLM-MontgomeryCXRSet/MontgomerySet/ClinicalReadings/MCUCXR_0334_1.txt',\n",
       " '/home/dell/Documentos/NLM-MontgomeryCXRSet/MontgomerySet/ClinicalReadings/MCUCXR_0092_0.txt',\n",
       " '/home/dell/Documentos/NLM-MontgomeryCXRSet/MontgomerySet/ClinicalReadings/MCUCXR_0289_1.txt',\n",
       " '/home/dell/Documentos/NLM-MontgomeryCXRSet/MontgomerySet/ClinicalReadings/MCUCXR_0084_0.txt',\n",
       " '/home/dell/Documentos/NLM-MontgomeryCXRSet/MontgomerySet/ClinicalReadings/MCUCXR_0387_1.txt',\n",
       " '/home/dell/Documentos/NLM-MontgomeryCXRSet/MontgomerySet/ClinicalReadings/MCUCXR_0313_1.txt',\n",
       " '/home/dell/Documentos/NLM-MontgomeryCXRSet/MontgomerySet/ClinicalReadings/MCUCXR_0162_1.txt',\n",
       " '/home/dell/Documentos/NLM-MontgomeryCXRSet/MontgomerySet/ClinicalReadings/MCUCXR_0203_1.txt',\n",
       " '/home/dell/Documentos/NLM-MontgomeryCXRSet/MontgomerySet/ClinicalReadings/MCUCXR_0062_0.txt',\n",
       " '/home/dell/Documentos/NLM-MontgomeryCXRSet/MontgomerySet/ClinicalReadings/MCUCXR_0142_1.txt',\n",
       " '/home/dell/Documentos/NLM-MontgomeryCXRSet/MontgomerySet/ClinicalReadings/MCUCXR_0055_0.txt',\n",
       " '/home/dell/Documentos/NLM-MontgomeryCXRSet/MontgomerySet/ClinicalReadings/MCUCXR_0029_0.txt',\n",
       " '/home/dell/Documentos/NLM-MontgomeryCXRSet/MontgomerySet/ClinicalReadings/MCUCXR_0056_0.txt',\n",
       " '/home/dell/Documentos/NLM-MontgomeryCXRSet/MontgomerySet/ClinicalReadings/MCUCXR_0006_0.txt',\n",
       " '/home/dell/Documentos/NLM-MontgomeryCXRSet/MontgomerySet/ClinicalReadings/MCUCXR_0354_1.txt',\n",
       " '/home/dell/Documentos/NLM-MontgomeryCXRSet/MontgomerySet/ClinicalReadings/MCUCXR_0258_1.txt',\n",
       " '/home/dell/Documentos/NLM-MontgomeryCXRSet/MontgomerySet/ClinicalReadings/MCUCXR_0060_0.txt',\n",
       " '/home/dell/Documentos/NLM-MontgomeryCXRSet/MontgomerySet/ClinicalReadings/MCUCXR_0075_0.txt',\n",
       " '/home/dell/Documentos/NLM-MontgomeryCXRSet/MontgomerySet/ClinicalReadings/MCUCXR_0097_0.txt',\n",
       " '/home/dell/Documentos/NLM-MontgomeryCXRSet/MontgomerySet/ClinicalReadings/MCUCXR_0047_0.txt',\n",
       " '/home/dell/Documentos/NLM-MontgomeryCXRSet/MontgomerySet/ClinicalReadings/MCUCXR_0069_0.txt',\n",
       " '/home/dell/Documentos/NLM-MontgomeryCXRSet/MontgomerySet/ClinicalReadings/MCUCXR_0041_0.txt',\n",
       " '/home/dell/Documentos/NLM-MontgomeryCXRSet/MontgomerySet/ClinicalReadings/MCUCXR_0003_0.txt',\n",
       " '/home/dell/Documentos/NLM-MontgomeryCXRSet/MontgomerySet/ClinicalReadings/MCUCXR_0101_0.txt',\n",
       " '/home/dell/Documentos/NLM-MontgomeryCXRSet/MontgomerySet/ClinicalReadings/MCUCXR_0074_0.txt',\n",
       " '/home/dell/Documentos/NLM-MontgomeryCXRSet/MontgomerySet/ClinicalReadings/MCUCXR_0141_1.txt',\n",
       " '/home/dell/Documentos/NLM-MontgomeryCXRSet/MontgomerySet/ClinicalReadings/MCUCXR_0150_1.txt',\n",
       " '/home/dell/Documentos/NLM-MontgomeryCXRSet/MontgomerySet/ClinicalReadings/MCUCXR_0348_1.txt',\n",
       " '/home/dell/Documentos/NLM-MontgomeryCXRSet/MontgomerySet/ClinicalReadings/MCUCXR_0082_0.txt',\n",
       " '/home/dell/Documentos/NLM-MontgomeryCXRSet/MontgomerySet/ClinicalReadings/MCUCXR_0011_0.txt',\n",
       " '/home/dell/Documentos/NLM-MontgomeryCXRSet/MontgomerySet/ClinicalReadings/MCUCXR_0294_1.txt',\n",
       " '/home/dell/Documentos/NLM-MontgomeryCXRSet/MontgomerySet/ClinicalReadings/MCUCXR_0004_0.txt',\n",
       " '/home/dell/Documentos/NLM-MontgomeryCXRSet/MontgomerySet/ClinicalReadings/MCUCXR_0338_1.txt',\n",
       " '/home/dell/Documentos/NLM-MontgomeryCXRSet/MontgomerySet/ClinicalReadings/MCUCXR_0087_0.txt',\n",
       " '/home/dell/Documentos/NLM-MontgomeryCXRSet/MontgomerySet/ClinicalReadings/MCUCXR_0020_0.txt',\n",
       " '/home/dell/Documentos/NLM-MontgomeryCXRSet/MontgomerySet/ClinicalReadings/MCUCXR_0393_1.txt',\n",
       " '/home/dell/Documentos/NLM-MontgomeryCXRSet/MontgomerySet/ClinicalReadings/MCUCXR_0064_0.txt',\n",
       " '/home/dell/Documentos/NLM-MontgomeryCXRSet/MontgomerySet/ClinicalReadings/MCUCXR_0196_1.txt',\n",
       " '/home/dell/Documentos/NLM-MontgomeryCXRSet/MontgomerySet/ClinicalReadings/MCUCXR_0390_1.txt',\n",
       " '/home/dell/Documentos/NLM-MontgomeryCXRSet/MontgomerySet/ClinicalReadings/MCUCXR_0001_0.txt',\n",
       " '/home/dell/Documentos/NLM-MontgomeryCXRSet/MontgomerySet/ClinicalReadings/MCUCXR_0254_1.txt',\n",
       " '/home/dell/Documentos/NLM-MontgomeryCXRSet/MontgomerySet/ClinicalReadings/MCUCXR_0223_1.txt',\n",
       " '/home/dell/Documentos/NLM-MontgomeryCXRSet/MontgomerySet/ClinicalReadings/MCUCXR_0251_1.txt',\n",
       " '/home/dell/Documentos/NLM-MontgomeryCXRSet/MontgomerySet/ClinicalReadings/MCUCXR_0126_1.txt',\n",
       " '/home/dell/Documentos/NLM-MontgomeryCXRSet/MontgomerySet/ClinicalReadings/MCUCXR_0188_1.txt',\n",
       " '/home/dell/Documentos/NLM-MontgomeryCXRSet/MontgomerySet/ClinicalReadings/MCUCXR_0048_0.txt',\n",
       " '/home/dell/Documentos/NLM-MontgomeryCXRSet/MontgomerySet/ClinicalReadings/MCUCXR_0282_1.txt',\n",
       " '/home/dell/Documentos/NLM-MontgomeryCXRSet/MontgomerySet/ClinicalReadings/MCUCXR_0070_0.txt',\n",
       " '/home/dell/Documentos/NLM-MontgomeryCXRSet/MontgomerySet/ClinicalReadings/MCUCXR_0053_0.txt',\n",
       " '/home/dell/Documentos/NLM-MontgomeryCXRSet/MontgomerySet/ClinicalReadings/MCUCXR_0113_1.txt',\n",
       " '/home/dell/Documentos/NLM-MontgomeryCXRSet/MontgomerySet/ClinicalReadings/MCUCXR_0086_0.txt',\n",
       " '/home/dell/Documentos/NLM-MontgomeryCXRSet/MontgomerySet/ClinicalReadings/MCUCXR_0117_1.txt',\n",
       " '/home/dell/Documentos/NLM-MontgomeryCXRSet/MontgomerySet/ClinicalReadings/MCUCXR_0090_0.txt',\n",
       " '/home/dell/Documentos/NLM-MontgomeryCXRSet/MontgomerySet/ClinicalReadings/MCUCXR_0077_0.txt',\n",
       " '/home/dell/Documentos/NLM-MontgomeryCXRSet/MontgomerySet/ClinicalReadings/MCUCXR_0375_1.txt',\n",
       " '/home/dell/Documentos/NLM-MontgomeryCXRSet/MontgomerySet/ClinicalReadings/MCUCXR_0081_0.txt',\n",
       " '/home/dell/Documentos/NLM-MontgomeryCXRSet/MontgomerySet/ClinicalReadings/MCUCXR_0080_0.txt',\n",
       " '/home/dell/Documentos/NLM-MontgomeryCXRSet/MontgomerySet/ClinicalReadings/MCUCXR_0049_0.txt',\n",
       " '/home/dell/Documentos/NLM-MontgomeryCXRSet/MontgomerySet/ClinicalReadings/MCUCXR_0008_0.txt',\n",
       " '/home/dell/Documentos/NLM-MontgomeryCXRSet/MontgomerySet/ClinicalReadings/MCUCXR_0350_1.txt',\n",
       " '/home/dell/Documentos/NLM-MontgomeryCXRSet/MontgomerySet/ClinicalReadings/MCUCXR_0367_1.txt',\n",
       " '/home/dell/Documentos/NLM-MontgomeryCXRSet/MontgomerySet/ClinicalReadings/MCUCXR_0057_0.txt',\n",
       " '/home/dell/Documentos/NLM-MontgomeryCXRSet/MontgomerySet/ClinicalReadings/MCUCXR_0026_0.txt',\n",
       " '/home/dell/Documentos/NLM-MontgomeryCXRSet/MontgomerySet/ClinicalReadings/MCUCXR_0035_0.txt',\n",
       " '/home/dell/Documentos/NLM-MontgomeryCXRSet/MontgomerySet/ClinicalReadings/MCUCXR_0024_0.txt',\n",
       " '/home/dell/Documentos/NLM-MontgomeryCXRSet/MontgomerySet/ClinicalReadings/MCUCXR_0140_1.txt',\n",
       " '/home/dell/Documentos/NLM-MontgomeryCXRSet/MontgomerySet/ClinicalReadings/MCUCXR_0331_1.txt',\n",
       " '/home/dell/Documentos/NLM-MontgomeryCXRSet/MontgomerySet/ClinicalReadings/MCUCXR_0042_0.txt',\n",
       " '/home/dell/Documentos/NLM-MontgomeryCXRSet/MontgomerySet/ClinicalReadings/MCUCXR_0031_0.txt',\n",
       " '/home/dell/Documentos/NLM-MontgomeryCXRSet/MontgomerySet/ClinicalReadings/MCUCXR_0054_0.txt',\n",
       " '/home/dell/Documentos/NLM-MontgomeryCXRSet/MontgomerySet/ClinicalReadings/MCUCXR_0094_0.txt',\n",
       " '/home/dell/Documentos/NLM-MontgomeryCXRSet/MontgomerySet/ClinicalReadings/MCUCXR_0058_0.txt',\n",
       " '/home/dell/Documentos/NLM-MontgomeryCXRSet/MontgomerySet/ClinicalReadings/MCUCXR_0072_0.txt',\n",
       " '/home/dell/Documentos/NLM-MontgomeryCXRSet/MontgomerySet/ClinicalReadings/MCUCXR_0044_0.txt',\n",
       " '/home/dell/Documentos/NLM-MontgomeryCXRSet/MontgomerySet/ClinicalReadings/MCUCXR_0045_0.txt',\n",
       " '/home/dell/Documentos/NLM-MontgomeryCXRSet/MontgomerySet/ClinicalReadings/MCUCXR_0016_0.txt',\n",
       " '/home/dell/Documentos/NLM-MontgomeryCXRSet/MontgomerySet/ClinicalReadings/MCUCXR_0015_0.txt',\n",
       " '/home/dell/Documentos/NLM-MontgomeryCXRSet/MontgomerySet/ClinicalReadings/MCUCXR_0316_1.txt',\n",
       " '/home/dell/Documentos/NLM-MontgomeryCXRSet/MontgomerySet/ClinicalReadings/MCUCXR_0166_1.txt',\n",
       " '/home/dell/Documentos/NLM-MontgomeryCXRSet/MontgomerySet/ClinicalReadings/MCUCXR_0352_1.txt',\n",
       " '/home/dell/Documentos/NLM-MontgomeryCXRSet/MontgomerySet/ClinicalReadings/MCUCXR_0182_1.txt',\n",
       " '/home/dell/Documentos/NLM-MontgomeryCXRSet/MontgomerySet/ClinicalReadings/MCUCXR_0253_1.txt',\n",
       " '/home/dell/Documentos/NLM-MontgomeryCXRSet/MontgomerySet/ClinicalReadings/MCUCXR_0027_0.txt',\n",
       " '/home/dell/Documentos/NLM-MontgomeryCXRSet/MontgomerySet/ClinicalReadings/MCUCXR_0071_0.txt',\n",
       " '/home/dell/Documentos/NLM-MontgomeryCXRSet/MontgomerySet/ClinicalReadings/MCUCXR_0005_0.txt',\n",
       " '/home/dell/Documentos/NLM-MontgomeryCXRSet/MontgomerySet/ClinicalReadings/MCUCXR_0311_1.txt',\n",
       " '/home/dell/Documentos/NLM-MontgomeryCXRSet/MontgomerySet/ClinicalReadings/MCUCXR_0017_0.txt',\n",
       " '/home/dell/Documentos/NLM-MontgomeryCXRSet/MontgomerySet/ClinicalReadings/MCUCXR_0063_0.txt',\n",
       " '/home/dell/Documentos/NLM-MontgomeryCXRSet/MontgomerySet/ClinicalReadings/MCUCXR_0095_0.txt',\n",
       " '/home/dell/Documentos/NLM-MontgomeryCXRSet/MontgomerySet/ClinicalReadings/MCUCXR_0013_0.txt',\n",
       " '/home/dell/Documentos/NLM-MontgomeryCXRSet/MontgomerySet/ClinicalReadings/MCUCXR_0043_0.txt',\n",
       " '/home/dell/Documentos/NLM-MontgomeryCXRSet/MontgomerySet/ClinicalReadings/MCUCXR_0068_0.txt',\n",
       " '/home/dell/Documentos/NLM-MontgomeryCXRSet/MontgomerySet/ClinicalReadings/MCUCXR_0104_1.txt',\n",
       " '/home/dell/Documentos/NLM-MontgomeryCXRSet/MontgomerySet/ClinicalReadings/MCUCXR_0108_1.txt',\n",
       " '/home/dell/Documentos/NLM-MontgomeryCXRSet/MontgomerySet/ClinicalReadings/MCUCXR_0040_0.txt',\n",
       " '/home/dell/Documentos/NLM-MontgomeryCXRSet/MontgomerySet/ClinicalReadings/MCUCXR_0243_1.txt',\n",
       " '/home/dell/Documentos/NLM-MontgomeryCXRSet/MontgomerySet/ClinicalReadings/MCUCXR_0213_1.txt',\n",
       " '/home/dell/Documentos/NLM-MontgomeryCXRSet/MontgomerySet/ClinicalReadings/MCUCXR_0022_0.txt',\n",
       " '/home/dell/Documentos/NLM-MontgomeryCXRSet/MontgomerySet/ClinicalReadings/MCUCXR_0079_0.txt',\n",
       " '/home/dell/Documentos/NLM-MontgomeryCXRSet/MontgomerySet/ClinicalReadings/MCUCXR_0028_0.txt',\n",
       " '/home/dell/Documentos/NLM-MontgomeryCXRSet/MontgomerySet/ClinicalReadings/MCUCXR_0051_0.txt',\n",
       " '/home/dell/Documentos/NLM-MontgomeryCXRSet/MontgomerySet/ClinicalReadings/MCUCXR_0362_1.txt',\n",
       " '/home/dell/Documentos/NLM-MontgomeryCXRSet/MontgomerySet/ClinicalReadings/MCUCXR_0266_1.txt',\n",
       " '/home/dell/Documentos/NLM-MontgomeryCXRSet/MontgomerySet/ClinicalReadings/MCUCXR_0309_1.txt',\n",
       " '/home/dell/Documentos/NLM-MontgomeryCXRSet/MontgomerySet/ClinicalReadings/MCUCXR_0099_0.txt',\n",
       " '/home/dell/Documentos/NLM-MontgomeryCXRSet/MontgomerySet/ClinicalReadings/MCUCXR_0023_0.txt',\n",
       " '/home/dell/Documentos/NLM-MontgomeryCXRSet/MontgomerySet/ClinicalReadings/MCUCXR_0170_1.txt',\n",
       " '/home/dell/Documentos/NLM-MontgomeryCXRSet/MontgomerySet/ClinicalReadings/MCUCXR_0083_0.txt',\n",
       " '/home/dell/Documentos/NLM-MontgomeryCXRSet/MontgomerySet/ClinicalReadings/MCUCXR_0096_0.txt',\n",
       " '/home/dell/Documentos/NLM-MontgomeryCXRSet/MontgomerySet/ClinicalReadings/MCUCXR_0173_1.txt',\n",
       " '/home/dell/Documentos/NLM-MontgomeryCXRSet/MontgomerySet/ClinicalReadings/MCUCXR_0052_0.txt',\n",
       " '/home/dell/Documentos/NLM-MontgomeryCXRSet/MontgomerySet/ClinicalReadings/MCUCXR_0030_0.txt',\n",
       " '/home/dell/Documentos/NLM-MontgomeryCXRSet/MontgomerySet/ClinicalReadings/MCUCXR_0085_0.txt',\n",
       " '/home/dell/Documentos/NLM-MontgomeryCXRSet/MontgomerySet/ClinicalReadings/MCUCXR_0059_0.txt',\n",
       " '/home/dell/Documentos/NLM-MontgomeryCXRSet/MontgomerySet/ClinicalReadings/MCUCXR_0369_1.txt',\n",
       " '/home/dell/Documentos/NLM-MontgomeryCXRSet/MontgomerySet/ClinicalReadings/MCUCXR_0038_0.txt',\n",
       " '/home/dell/Documentos/NLM-MontgomeryCXRSet/MontgomerySet/ClinicalReadings/MCUCXR_0275_1.txt',\n",
       " '/home/dell/Documentos/NLM-MontgomeryCXRSet/MontgomerySet/ClinicalReadings/MCUCXR_0301_1.txt',\n",
       " '/home/dell/Documentos/NLM-MontgomeryCXRSet/MontgomerySet/ClinicalReadings/MCUCXR_0019_0.txt',\n",
       " '/home/dell/Documentos/NLM-MontgomeryCXRSet/MontgomerySet/ClinicalReadings/MCUCXR_0255_1.txt',\n",
       " '/home/dell/Documentos/NLM-MontgomeryCXRSet/MontgomerySet/ClinicalReadings/MCUCXR_0089_0.txt',\n",
       " '/home/dell/Documentos/NLM-MontgomeryCXRSet/MontgomerySet/ClinicalReadings/MCUCXR_0383_1.txt',\n",
       " '/home/dell/Documentos/NLM-MontgomeryCXRSet/MontgomerySet/ClinicalReadings/MCUCXR_0046_0.txt',\n",
       " '/home/dell/Documentos/NLM-MontgomeryCXRSet/MontgomerySet/ClinicalReadings/MCUCXR_0194_1.txt',\n",
       " '/home/dell/Documentos/NLM-MontgomeryCXRSet/MontgomerySet/ClinicalReadings/MCUCXR_0091_0.txt',\n",
       " '/home/dell/Documentos/NLM-MontgomeryCXRSet/MontgomerySet/ClinicalReadings/MCUCXR_0195_1.txt',\n",
       " '/home/dell/Documentos/NLM-MontgomeryCXRSet/MontgomerySet/ClinicalReadings/MCUCXR_0103_0.txt',\n",
       " '/home/dell/Documentos/NLM-MontgomeryCXRSet/MontgomerySet/ClinicalReadings/MCUCXR_0144_1.txt',\n",
       " '/home/dell/Documentos/NLM-MontgomeryCXRSet/MontgomerySet/ClinicalReadings/MCUCXR_0399_1.txt',\n",
       " '/home/dell/Documentos/NLM-MontgomeryCXRSet/MontgomerySet/ClinicalReadings/MCUCXR_0002_0.txt',\n",
       " '/home/dell/Documentos/NLM-MontgomeryCXRSet/MontgomerySet/ClinicalReadings/MCUCXR_0100_0.txt',\n",
       " '/home/dell/Documentos/NLM-MontgomeryCXRSet/MontgomerySet/ClinicalReadings/MCUCXR_0102_0.txt',\n",
       " '/home/dell/Documentos/NLM-MontgomeryCXRSet/MontgomerySet/ClinicalReadings/MCUCXR_0061_0.txt',\n",
       " '/home/dell/Documentos/NLM-MontgomeryCXRSet/MontgomerySet/ClinicalReadings/MCUCXR_0218_1.txt',\n",
       " '/home/dell/Documentos/NLM-MontgomeryCXRSet/MontgomerySet/ClinicalReadings/MCUCXR_0372_1.txt']"
      ]
     },
     "execution_count": 3,
     "metadata": {},
     "output_type": "execute_result"
    }
   ],
   "source": [
    "list_txt"
   ]
  },
  {
   "cell_type": "code",
   "execution_count": 4,
   "id": "charged-chicago",
   "metadata": {},
   "outputs": [],
   "source": [
    "df_labels = pd.DataFrame(columns=[\"file\",\"label\"])"
   ]
  },
  {
   "cell_type": "code",
   "execution_count": 51,
   "id": "dress-receptor",
   "metadata": {},
   "outputs": [],
   "source": [
    "list_file = []\n",
    "list_label =[]"
   ]
  },
  {
   "cell_type": "code",
   "execution_count": 52,
   "id": "extraordinary-samoa",
   "metadata": {},
   "outputs": [],
   "source": [
    "for txt in list_txt:\n",
    "    split_t = txt.split('/')\n",
    "    image_name = split_t[-1]\n",
    "    image_name = image_name.replace(\".txt\", \".png\")\n",
    "    list_file.append(image_name)\n",
    "    with open(txt) as f:\n",
    "        text = f.read()\n",
    "        if 'TB' in text:\n",
    "            list_label.append(\"tuberculosis\")\n",
    "        elif 'normal' in text:\n",
    "            list_label.append(\"normal\")\n",
    "        else:\n",
    "            list_label.append(\"tuberculosis\")"
   ]
  },
  {
   "cell_type": "code",
   "execution_count": 53,
   "id": "supreme-notice",
   "metadata": {},
   "outputs": [
    {
     "data": {
      "text/plain": [
       "138"
      ]
     },
     "execution_count": 53,
     "metadata": {},
     "output_type": "execute_result"
    }
   ],
   "source": [
    "len(list_file)"
   ]
  },
  {
   "cell_type": "code",
   "execution_count": 54,
   "id": "cooperative-astrology",
   "metadata": {},
   "outputs": [],
   "source": [
    "df_labels.file = list_file\n",
    "df_labels.label = list_label"
   ]
  },
  {
   "cell_type": "code",
   "execution_count": 55,
   "id": "victorian-belle",
   "metadata": {},
   "outputs": [
    {
     "data": {
      "text/html": [
       "<div>\n",
       "<style scoped>\n",
       "    .dataframe tbody tr th:only-of-type {\n",
       "        vertical-align: middle;\n",
       "    }\n",
       "\n",
       "    .dataframe tbody tr th {\n",
       "        vertical-align: top;\n",
       "    }\n",
       "\n",
       "    .dataframe thead th {\n",
       "        text-align: right;\n",
       "    }\n",
       "</style>\n",
       "<table border=\"1\" class=\"dataframe\">\n",
       "  <thead>\n",
       "    <tr style=\"text-align: right;\">\n",
       "      <th></th>\n",
       "      <th>file</th>\n",
       "      <th>label</th>\n",
       "    </tr>\n",
       "  </thead>\n",
       "  <tbody>\n",
       "    <tr>\n",
       "      <th>0</th>\n",
       "      <td>MCUCXR_0228_1.png</td>\n",
       "      <td>tuberculosis</td>\n",
       "    </tr>\n",
       "    <tr>\n",
       "      <th>1</th>\n",
       "      <td>MCUCXR_0021_0.png</td>\n",
       "      <td>normal</td>\n",
       "    </tr>\n",
       "    <tr>\n",
       "      <th>2</th>\n",
       "      <td>MCUCXR_0264_1.png</td>\n",
       "      <td>tuberculosis</td>\n",
       "    </tr>\n",
       "    <tr>\n",
       "      <th>3</th>\n",
       "      <td>MCUCXR_0334_1.png</td>\n",
       "      <td>tuberculosis</td>\n",
       "    </tr>\n",
       "    <tr>\n",
       "      <th>4</th>\n",
       "      <td>MCUCXR_0092_0.png</td>\n",
       "      <td>normal</td>\n",
       "    </tr>\n",
       "    <tr>\n",
       "      <th>...</th>\n",
       "      <td>...</td>\n",
       "      <td>...</td>\n",
       "    </tr>\n",
       "    <tr>\n",
       "      <th>133</th>\n",
       "      <td>MCUCXR_0100_0.png</td>\n",
       "      <td>normal</td>\n",
       "    </tr>\n",
       "    <tr>\n",
       "      <th>134</th>\n",
       "      <td>MCUCXR_0102_0.png</td>\n",
       "      <td>normal</td>\n",
       "    </tr>\n",
       "    <tr>\n",
       "      <th>135</th>\n",
       "      <td>MCUCXR_0061_0.png</td>\n",
       "      <td>normal</td>\n",
       "    </tr>\n",
       "    <tr>\n",
       "      <th>136</th>\n",
       "      <td>MCUCXR_0218_1.png</td>\n",
       "      <td>tuberculosis</td>\n",
       "    </tr>\n",
       "    <tr>\n",
       "      <th>137</th>\n",
       "      <td>MCUCXR_0372_1.png</td>\n",
       "      <td>tuberculosis</td>\n",
       "    </tr>\n",
       "  </tbody>\n",
       "</table>\n",
       "<p>138 rows × 2 columns</p>\n",
       "</div>"
      ],
      "text/plain": [
       "                  file         label\n",
       "0    MCUCXR_0228_1.png  tuberculosis\n",
       "1    MCUCXR_0021_0.png        normal\n",
       "2    MCUCXR_0264_1.png  tuberculosis\n",
       "3    MCUCXR_0334_1.png  tuberculosis\n",
       "4    MCUCXR_0092_0.png        normal\n",
       "..                 ...           ...\n",
       "133  MCUCXR_0100_0.png        normal\n",
       "134  MCUCXR_0102_0.png        normal\n",
       "135  MCUCXR_0061_0.png        normal\n",
       "136  MCUCXR_0218_1.png  tuberculosis\n",
       "137  MCUCXR_0372_1.png  tuberculosis\n",
       "\n",
       "[138 rows x 2 columns]"
      ]
     },
     "execution_count": 55,
     "metadata": {},
     "output_type": "execute_result"
    }
   ],
   "source": [
    "df_labels"
   ]
  },
  {
   "cell_type": "code",
   "execution_count": 56,
   "id": "beneficial-binary",
   "metadata": {},
   "outputs": [
    {
     "data": {
      "text/plain": [
       "normal          80\n",
       "tuberculosis    58\n",
       "Name: label, dtype: int64"
      ]
     },
     "execution_count": 56,
     "metadata": {},
     "output_type": "execute_result"
    }
   ],
   "source": [
    "df_labels.label.value_counts()"
   ]
  },
  {
   "cell_type": "code",
   "execution_count": 57,
   "id": "nervous-montana",
   "metadata": {},
   "outputs": [
    {
     "name": "stdout",
     "output_type": "stream",
     "text": [
      "Successfully created the directory /home/dell/Documentos/NLM-MontgomeryCXRSet/normal_images\n",
      "Successfully created the directory /home/dell/Documentos/NLM-MontgomeryCXRSet/tb_images\n"
     ]
    }
   ],
   "source": [
    "dir_normal = \"/home/dell/Documentos/NLM-MontgomeryCXRSet/normal_images\"\n",
    "dir_tb = \"/home/dell/Documentos/NLM-MontgomeryCXRSet/tb_images\"\n",
    "\n",
    "# Criando diretórios novos\n",
    "\n",
    "for path_lb in [dir_normal,dir_tb]:\n",
    "    try:\n",
    "        os.makedirs(path_lb)\n",
    "    except OSError:\n",
    "        print (\"Creation of the directory %s failed\" % path_lb)\n",
    "    else:\n",
    "        print (\"Successfully created the directory %s\" % path_lb)"
   ]
  },
  {
   "cell_type": "code",
   "execution_count": 58,
   "id": "declared-action",
   "metadata": {},
   "outputs": [],
   "source": [
    "os.chdir('/home/dell/Documentos/NLM-MontgomeryCXRSet/MontgomerySet/CXR_png/')\n",
    "\n",
    "for i in range(df_labels.shape[0]):\n",
    "    img = df_labels.file[i] \n",
    "    if df_labels.label[i] == \"tuberculosis\":\n",
    "        shutil.copy(img, dir_tb)\n",
    "    if df_labels.label[i] == \"normal\":\n",
    "        shutil.copy(img, dir_normal)"
   ]
  }
 ],
 "metadata": {
  "kernelspec": {
   "display_name": "covidx",
   "language": "python",
   "name": "covidx"
  },
  "language_info": {
   "codemirror_mode": {
    "name": "ipython",
    "version": 3
   },
   "file_extension": ".py",
   "mimetype": "text/x-python",
   "name": "python",
   "nbconvert_exporter": "python",
   "pygments_lexer": "ipython3",
   "version": "3.6.13"
  }
 },
 "nbformat": 4,
 "nbformat_minor": 5
}
