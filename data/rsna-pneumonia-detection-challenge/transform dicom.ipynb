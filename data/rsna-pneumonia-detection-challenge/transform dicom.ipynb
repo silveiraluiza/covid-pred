{
 "cells": [
  {
   "cell_type": "code",
   "execution_count": 1,
   "id": "dominican-geology",
   "metadata": {},
   "outputs": [],
   "source": [
    "import cv2\n",
    "import os\n",
    "import pydicom\n",
    "\n"
   ]
  },
  {
   "cell_type": "code",
   "execution_count": 2,
   "id": "instructional-sculpture",
   "metadata": {},
   "outputs": [],
   "source": [
    "path_train = \"/home/dell/Documentos/Covid-Datasets/Exp4/data/train\"\n",
    "path_test = \"/home/dell/Documentos/Covid-Datasets/Exp4/data/test\"\n",
    "path_val = \"/home/dell/Documentos/Covid-Datasets/Exp4/data/val\"\n",
    "\n",
    "list_dirs = []\n",
    "dir_covid = \"Covid-19\"\n",
    "dir_normal = \"No-Findings\"\n",
    "\n",
    "dir_pn = \"Pneumonia\"\n",
    "\n",
    "\n",
    "# Criando diretórios novos\n",
    "\n",
    "for path_lb in [dir_covid, dir_normal,  dir_pn]:\n",
    "    list_dirs.append(path_train + '/' + path_lb + \"/\")\n",
    "    list_dirs.append(path_test + '/' + path_lb + \"/\")\n",
    "    list_dirs.append(path_val + '/' + path_lb + \"/\")"
   ]
  },
  {
   "cell_type": "code",
   "execution_count": 3,
   "id": "multiple-wayne",
   "metadata": {},
   "outputs": [
    {
     "data": {
      "text/plain": [
       "['/home/dell/Documentos/Covid-Datasets/Exp4/data/train/Covid-19/',\n",
       " '/home/dell/Documentos/Covid-Datasets/Exp4/data/test/Covid-19/',\n",
       " '/home/dell/Documentos/Covid-Datasets/Exp4/data/val/Covid-19/',\n",
       " '/home/dell/Documentos/Covid-Datasets/Exp4/data/train/No-Findings/',\n",
       " '/home/dell/Documentos/Covid-Datasets/Exp4/data/test/No-Findings/',\n",
       " '/home/dell/Documentos/Covid-Datasets/Exp4/data/val/No-Findings/',\n",
       " '/home/dell/Documentos/Covid-Datasets/Exp4/data/train/Pneumonia/',\n",
       " '/home/dell/Documentos/Covid-Datasets/Exp4/data/test/Pneumonia/',\n",
       " '/home/dell/Documentos/Covid-Datasets/Exp4/data/val/Pneumonia/']"
      ]
     },
     "execution_count": 3,
     "metadata": {},
     "output_type": "execute_result"
    }
   ],
   "source": [
    "list_dirs"
   ]
  },
  {
   "cell_type": "code",
   "execution_count": 4,
   "id": "successful-passport",
   "metadata": {},
   "outputs": [],
   "source": [
    "\n",
    "#os.mkdir(outdir)\n",
    "\n",
    "for directory in list_dirs:\n",
    "    inputdir = directory\n",
    "    outdir = directory\n",
    "    \n",
    "    os.chdir(directory)\n",
    "    \n",
    "    test_list = [ f for f in  os.listdir(inputdir)]\n",
    "\n",
    "    for f in test_list:   # remove \"[:10]\" to convert all images \n",
    "         if(f.endswith(\".dcm\")):\n",
    "            ds = pydicom.read_file(inputdir + f) # read dicom image\n",
    "            img = ds.pixel_array # get image array\n",
    "            cv2.imwrite(outdir + f.replace('.dcm','.png'),img) # write png image\n",
    "            os.remove(f)"
   ]
  }
 ],
 "metadata": {
  "kernelspec": {
   "display_name": "Python [conda env:tensorflow] *",
   "language": "python",
   "name": "conda-env-tensorflow-py"
  },
  "language_info": {
   "codemirror_mode": {
    "name": "ipython",
    "version": 3
   },
   "file_extension": ".py",
   "mimetype": "text/x-python",
   "name": "python",
   "nbconvert_exporter": "python",
   "pygments_lexer": "ipython3",
   "version": "3.8.11"
  }
 },
 "nbformat": 4,
 "nbformat_minor": 5
}
